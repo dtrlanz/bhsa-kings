{
 "cells": [
  {
   "cell_type": "code",
   "execution_count": 21,
   "metadata": {},
   "outputs": [
    {
     "data": {
      "text/html": [
       "<b title=\"local release\">TF-app:</b> <span title=\"rv2.3.0=#113c0687cfce3077734dac1844d244d20f4ace6f offline under ~/text-fabric-data\">C:\\Users\\ittai_n0vs94x/text-fabric-data/annotation/app-bhsa/code</span>"
      ],
      "text/plain": [
       "<IPython.core.display.HTML object>"
      ]
     },
     "metadata": {},
     "output_type": "display_data"
    },
    {
     "data": {
      "text/html": [
       "<b title=\"local release\">data:</b> <span title=\"rv1.6=#bac4a9f5a2bbdede96ba6caea45e762fe88f88c5 offline under ~/text-fabric-data\">C:\\Users\\ittai_n0vs94x/text-fabric-data/etcbc/bhsa/tf/c</span>"
      ],
      "text/plain": [
       "<IPython.core.display.HTML object>"
      ]
     },
     "metadata": {},
     "output_type": "display_data"
    },
    {
     "data": {
      "text/html": [
       "<b title=\"local release\">data:</b> <span title=\"r1.2=#1ac68e976ee4a7f23eb6bb4c6f401a033d0ec169 offline under ~/text-fabric-data\">C:\\Users\\ittai_n0vs94x/text-fabric-data/etcbc/phono/tf/c</span>"
      ],
      "text/plain": [
       "<IPython.core.display.HTML object>"
      ]
     },
     "metadata": {},
     "output_type": "display_data"
    },
    {
     "data": {
      "text/html": [
       "<b title=\"local release\">data:</b> <span title=\"r1.2=#395dfe2cb69c261862fab9f0289e594a52121d5c offline under ~/text-fabric-data\">C:\\Users\\ittai_n0vs94x/text-fabric-data/etcbc/parallels/tf/c</span>"
      ],
      "text/plain": [
       "<IPython.core.display.HTML object>"
      ]
     },
     "metadata": {},
     "output_type": "display_data"
    },
    {
     "name": "stdout",
     "output_type": "stream",
     "text": [
      "This is Text-Fabric 9.0.0\n",
      "Api reference : https://annotation.github.io/text-fabric/tf/cheatsheet.html\n",
      "\n",
      "120 features found and 0 ignored\n"
     ]
    },
    {
     "data": {
      "text/html": [
       "<b>Text-Fabric:</b> <a target=\"_blank\" href=\"https://annotation.github.io/text-fabric/tf/cheatsheet.html\" title=\"text-fabric-api\">Text-Fabric API 9.0.0</a>, <a target=\"_blank\" href=\"https://github.com/annotation/app-bhsa\" title=\"bhsa TF-app\">app-bhsa v3</a>, <a target=\"_blank\" href=\"https://annotation.github.io/text-fabric/tf/about/searchusage.html\" title=\"Search Templates Introduction and Reference\">Search Reference</a><br><b>Data:</b> <a target=\"_blank\" href=\"https://etcbc.github.io/bhsa/0_home\" title=\"provenance of BHSA = Biblia Hebraica Stuttgartensia Amstelodamensis\">BHSA</a>, <a target=\"_blank\" href=\"https://annotation.github.io/text-fabric/tf/writing/hebrew.html\" title=\"How TF features represent text\">Character table</a>, <a target=\"_blank\" href=\"https://etcbc.github.io/bhsa/features/0_home\" title=\"BHSA feature documentation\">Feature docs</a><br><b>Features:</b><br><details><summary><b>Parallel Passages</b></summary><b><i><a target=\"_blank\" href=\"https://nbviewer.jupyter.org/github/etcbc/parallels/blob/master/programs/parallels.ipynb\" title=\"C:\\Users\\ittai_n0vs94x/text-fabric-data/etcbc/parallels/tf/c/crossref.tf\">crossref</a></i></b><br></details><details><summary><b>BHSA = Biblia Hebraica Stuttgartensia Amstelodamensis</b></summary><a target=\"_blank\" href=\"https://etcbc.github.io/bhsa/features/book\" title=\"C:\\Users\\ittai_n0vs94x/text-fabric-data/etcbc/bhsa/tf/c/book.tf\">book</a><br><a target=\"_blank\" href=\"https://etcbc.github.io/bhsa/features/book@ll\" title=\"C:\\Users\\ittai_n0vs94x/text-fabric-data/etcbc/bhsa/tf/c/book@am.tf\">book@ll</a><br><a target=\"_blank\" href=\"https://etcbc.github.io/bhsa/features/chapter\" title=\"C:\\Users\\ittai_n0vs94x/text-fabric-data/etcbc/bhsa/tf/c/chapter.tf\">chapter</a><br><a target=\"_blank\" href=\"https://etcbc.github.io/bhsa/features/code\" title=\"C:\\Users\\ittai_n0vs94x/text-fabric-data/etcbc/bhsa/tf/c/code.tf\">code</a><br><a target=\"_blank\" href=\"https://etcbc.github.io/bhsa/features/det\" title=\"C:\\Users\\ittai_n0vs94x/text-fabric-data/etcbc/bhsa/tf/c/det.tf\">det</a><br><a target=\"_blank\" href=\"https://etcbc.github.io/bhsa/features/domain\" title=\"C:\\Users\\ittai_n0vs94x/text-fabric-data/etcbc/bhsa/tf/c/domain.tf\">domain</a><br><a target=\"_blank\" href=\"https://etcbc.github.io/bhsa/features/freq_lex\" title=\"C:\\Users\\ittai_n0vs94x/text-fabric-data/etcbc/bhsa/tf/c/freq_lex.tf\">freq_lex</a><br><a target=\"_blank\" href=\"https://etcbc.github.io/bhsa/features/function\" title=\"C:\\Users\\ittai_n0vs94x/text-fabric-data/etcbc/bhsa/tf/c/function.tf\">function</a><br><a target=\"_blank\" href=\"https://etcbc.github.io/bhsa/features/g_cons\" title=\"C:\\Users\\ittai_n0vs94x/text-fabric-data/etcbc/bhsa/tf/c/g_cons.tf\">g_cons</a><br><a target=\"_blank\" href=\"https://etcbc.github.io/bhsa/features/g_cons_utf8\" title=\"C:\\Users\\ittai_n0vs94x/text-fabric-data/etcbc/bhsa/tf/c/g_cons_utf8.tf\">g_cons_utf8</a><br><a target=\"_blank\" href=\"https://etcbc.github.io/bhsa/features/g_lex\" title=\"C:\\Users\\ittai_n0vs94x/text-fabric-data/etcbc/bhsa/tf/c/g_lex.tf\">g_lex</a><br><a target=\"_blank\" href=\"https://etcbc.github.io/bhsa/features/g_lex_utf8\" title=\"C:\\Users\\ittai_n0vs94x/text-fabric-data/etcbc/bhsa/tf/c/g_lex_utf8.tf\">g_lex_utf8</a><br><a target=\"_blank\" href=\"https://etcbc.github.io/bhsa/features/g_word\" title=\"C:\\Users\\ittai_n0vs94x/text-fabric-data/etcbc/bhsa/tf/c/g_word.tf\">g_word</a><br><a target=\"_blank\" href=\"https://etcbc.github.io/bhsa/features/g_word_utf8\" title=\"C:\\Users\\ittai_n0vs94x/text-fabric-data/etcbc/bhsa/tf/c/g_word_utf8.tf\">g_word_utf8</a><br><a target=\"_blank\" href=\"https://etcbc.github.io/bhsa/features/gloss\" title=\"C:\\Users\\ittai_n0vs94x/text-fabric-data/etcbc/bhsa/tf/c/gloss.tf\">gloss</a><br><a target=\"_blank\" href=\"https://etcbc.github.io/bhsa/features/gn\" title=\"C:\\Users\\ittai_n0vs94x/text-fabric-data/etcbc/bhsa/tf/c/gn.tf\">gn</a><br><a target=\"_blank\" href=\"https://etcbc.github.io/bhsa/features/label\" title=\"C:\\Users\\ittai_n0vs94x/text-fabric-data/etcbc/bhsa/tf/c/label.tf\">label</a><br><a target=\"_blank\" href=\"https://etcbc.github.io/bhsa/features/language\" title=\"C:\\Users\\ittai_n0vs94x/text-fabric-data/etcbc/bhsa/tf/c/language.tf\">language</a><br><a target=\"_blank\" href=\"https://etcbc.github.io/bhsa/features/lex\" title=\"C:\\Users\\ittai_n0vs94x/text-fabric-data/etcbc/bhsa/tf/c/lex.tf\">lex</a><br><a target=\"_blank\" href=\"https://etcbc.github.io/bhsa/features/lex_utf8\" title=\"C:\\Users\\ittai_n0vs94x/text-fabric-data/etcbc/bhsa/tf/c/lex_utf8.tf\">lex_utf8</a><br><a target=\"_blank\" href=\"https://etcbc.github.io/bhsa/features/ls\" title=\"C:\\Users\\ittai_n0vs94x/text-fabric-data/etcbc/bhsa/tf/c/ls.tf\">ls</a><br><a target=\"_blank\" href=\"https://etcbc.github.io/bhsa/features/nametype\" title=\"C:\\Users\\ittai_n0vs94x/text-fabric-data/etcbc/bhsa/tf/c/nametype.tf\">nametype</a><br><a target=\"_blank\" href=\"https://etcbc.github.io/bhsa/features/nme\" title=\"C:\\Users\\ittai_n0vs94x/text-fabric-data/etcbc/bhsa/tf/c/nme.tf\">nme</a><br><a target=\"_blank\" href=\"https://etcbc.github.io/bhsa/features/nu\" title=\"C:\\Users\\ittai_n0vs94x/text-fabric-data/etcbc/bhsa/tf/c/nu.tf\">nu</a><br><a target=\"_blank\" href=\"https://etcbc.github.io/bhsa/features/number\" title=\"C:\\Users\\ittai_n0vs94x/text-fabric-data/etcbc/bhsa/tf/c/number.tf\">number</a><br><a target=\"_blank\" href=\"https://etcbc.github.io/bhsa/features/otype\" title=\"C:\\Users\\ittai_n0vs94x/text-fabric-data/etcbc/bhsa/tf/c/otype.tf\">otype</a><br><a target=\"_blank\" href=\"https://etcbc.github.io/bhsa/features/pargr\" title=\"C:\\Users\\ittai_n0vs94x/text-fabric-data/etcbc/bhsa/tf/c/pargr.tf\">pargr</a><br><a target=\"_blank\" href=\"https://etcbc.github.io/bhsa/features/pdp\" title=\"C:\\Users\\ittai_n0vs94x/text-fabric-data/etcbc/bhsa/tf/c/pdp.tf\">pdp</a><br><a target=\"_blank\" href=\"https://etcbc.github.io/bhsa/features/pfm\" title=\"C:\\Users\\ittai_n0vs94x/text-fabric-data/etcbc/bhsa/tf/c/pfm.tf\">pfm</a><br><a target=\"_blank\" href=\"https://etcbc.github.io/bhsa/features/prs\" title=\"C:\\Users\\ittai_n0vs94x/text-fabric-data/etcbc/bhsa/tf/c/prs.tf\">prs</a><br><a target=\"_blank\" href=\"https://etcbc.github.io/bhsa/features/prs_gn\" title=\"C:\\Users\\ittai_n0vs94x/text-fabric-data/etcbc/bhsa/tf/c/prs_gn.tf\">prs_gn</a><br><a target=\"_blank\" href=\"https://etcbc.github.io/bhsa/features/prs_nu\" title=\"C:\\Users\\ittai_n0vs94x/text-fabric-data/etcbc/bhsa/tf/c/prs_nu.tf\">prs_nu</a><br><a target=\"_blank\" href=\"https://etcbc.github.io/bhsa/features/prs_ps\" title=\"C:\\Users\\ittai_n0vs94x/text-fabric-data/etcbc/bhsa/tf/c/prs_ps.tf\">prs_ps</a><br><a target=\"_blank\" href=\"https://etcbc.github.io/bhsa/features/ps\" title=\"C:\\Users\\ittai_n0vs94x/text-fabric-data/etcbc/bhsa/tf/c/ps.tf\">ps</a><br><a target=\"_blank\" href=\"https://etcbc.github.io/bhsa/features/qere\" title=\"C:\\Users\\ittai_n0vs94x/text-fabric-data/etcbc/bhsa/tf/c/qere.tf\">qere</a><br><a target=\"_blank\" href=\"https://etcbc.github.io/bhsa/features/qere_trailer\" title=\"C:\\Users\\ittai_n0vs94x/text-fabric-data/etcbc/bhsa/tf/c/qere_trailer.tf\">qere_trailer</a><br><a target=\"_blank\" href=\"https://etcbc.github.io/bhsa/features/qere_trailer_utf8\" title=\"C:\\Users\\ittai_n0vs94x/text-fabric-data/etcbc/bhsa/tf/c/qere_trailer_utf8.tf\">qere_trailer_utf8</a><br><a target=\"_blank\" href=\"https://etcbc.github.io/bhsa/features/qere_utf8\" title=\"C:\\Users\\ittai_n0vs94x/text-fabric-data/etcbc/bhsa/tf/c/qere_utf8.tf\">qere_utf8</a><br><a target=\"_blank\" href=\"https://etcbc.github.io/bhsa/features/rank_lex\" title=\"C:\\Users\\ittai_n0vs94x/text-fabric-data/etcbc/bhsa/tf/c/rank_lex.tf\">rank_lex</a><br><a target=\"_blank\" href=\"https://etcbc.github.io/bhsa/features/rela\" title=\"C:\\Users\\ittai_n0vs94x/text-fabric-data/etcbc/bhsa/tf/c/rela.tf\">rela</a><br><a target=\"_blank\" href=\"https://etcbc.github.io/bhsa/features/sp\" title=\"C:\\Users\\ittai_n0vs94x/text-fabric-data/etcbc/bhsa/tf/c/sp.tf\">sp</a><br><a target=\"_blank\" href=\"https://etcbc.github.io/bhsa/features/st\" title=\"C:\\Users\\ittai_n0vs94x/text-fabric-data/etcbc/bhsa/tf/c/st.tf\">st</a><br><a target=\"_blank\" href=\"https://etcbc.github.io/bhsa/features/tab\" title=\"C:\\Users\\ittai_n0vs94x/text-fabric-data/etcbc/bhsa/tf/c/tab.tf\">tab</a><br><a target=\"_blank\" href=\"https://etcbc.github.io/bhsa/features/trailer\" title=\"C:\\Users\\ittai_n0vs94x/text-fabric-data/etcbc/bhsa/tf/c/trailer.tf\">trailer</a><br><a target=\"_blank\" href=\"https://etcbc.github.io/bhsa/features/trailer_utf8\" title=\"C:\\Users\\ittai_n0vs94x/text-fabric-data/etcbc/bhsa/tf/c/trailer_utf8.tf\">trailer_utf8</a><br><a target=\"_blank\" href=\"https://etcbc.github.io/bhsa/features/txt\" title=\"C:\\Users\\ittai_n0vs94x/text-fabric-data/etcbc/bhsa/tf/c/txt.tf\">txt</a><br><a target=\"_blank\" href=\"https://etcbc.github.io/bhsa/features/typ\" title=\"C:\\Users\\ittai_n0vs94x/text-fabric-data/etcbc/bhsa/tf/c/typ.tf\">typ</a><br><a target=\"_blank\" href=\"https://etcbc.github.io/bhsa/features/uvf\" title=\"C:\\Users\\ittai_n0vs94x/text-fabric-data/etcbc/bhsa/tf/c/uvf.tf\">uvf</a><br><a target=\"_blank\" href=\"https://etcbc.github.io/bhsa/features/vbe\" title=\"C:\\Users\\ittai_n0vs94x/text-fabric-data/etcbc/bhsa/tf/c/vbe.tf\">vbe</a><br><a target=\"_blank\" href=\"https://etcbc.github.io/bhsa/features/vbs\" title=\"C:\\Users\\ittai_n0vs94x/text-fabric-data/etcbc/bhsa/tf/c/vbs.tf\">vbs</a><br><a target=\"_blank\" href=\"https://etcbc.github.io/bhsa/features/verse\" title=\"C:\\Users\\ittai_n0vs94x/text-fabric-data/etcbc/bhsa/tf/c/verse.tf\">verse</a><br><a target=\"_blank\" href=\"https://etcbc.github.io/bhsa/features/voc_lex\" title=\"C:\\Users\\ittai_n0vs94x/text-fabric-data/etcbc/bhsa/tf/c/voc_lex.tf\">voc_lex</a><br><a target=\"_blank\" href=\"https://etcbc.github.io/bhsa/features/voc_lex_utf8\" title=\"C:\\Users\\ittai_n0vs94x/text-fabric-data/etcbc/bhsa/tf/c/voc_lex_utf8.tf\">voc_lex_utf8</a><br><a target=\"_blank\" href=\"https://etcbc.github.io/bhsa/features/vs\" title=\"C:\\Users\\ittai_n0vs94x/text-fabric-data/etcbc/bhsa/tf/c/vs.tf\">vs</a><br><a target=\"_blank\" href=\"https://etcbc.github.io/bhsa/features/vt\" title=\"C:\\Users\\ittai_n0vs94x/text-fabric-data/etcbc/bhsa/tf/c/vt.tf\">vt</a><br><b><i><a target=\"_blank\" href=\"https://etcbc.github.io/bhsa/features/mother\" title=\"C:\\Users\\ittai_n0vs94x/text-fabric-data/etcbc/bhsa/tf/c/mother.tf\">mother</a></i></b><br><b><i><a target=\"_blank\" href=\"https://etcbc.github.io/bhsa/features/oslots\" title=\"C:\\Users\\ittai_n0vs94x/text-fabric-data/etcbc/bhsa/tf/c/oslots.tf\">oslots</a></i></b><br></details><details><summary><b>Phonetic Transcriptions</b></summary><a target=\"_blank\" href=\"https://nbviewer.jupyter.org/github/etcbc/phono/blob/master/programs/phono.ipynb\" title=\"C:\\Users\\ittai_n0vs94x/text-fabric-data/etcbc/phono/tf/c/phono.tf\">phono</a><br><a target=\"_blank\" href=\"https://nbviewer.jupyter.org/github/etcbc/phono/blob/master/programs/phono.ipynb\" title=\"C:\\Users\\ittai_n0vs94x/text-fabric-data/etcbc/phono/tf/c/phono_trailer.tf\">phono_trailer</a><br></details>"
      ],
      "text/plain": [
       "<IPython.core.display.HTML object>"
      ]
     },
     "metadata": {},
     "output_type": "display_data"
    },
    {
     "data": {
      "text/html": [
       "<style>tr.tf.ltr, td.tf.ltr, th.tf.ltr { text-align: left ! important;}\n",
       "tr.tf.rtl, td.tf.rtl, th.tf.rtl { text-align: right ! important;}\n",
       "@font-face {\n",
       "  font-family: \"Gentium Plus\";\n",
       "  src: local('Gentium Plus'), local('GentiumPlus'),\n",
       "    url('/server/static/fonts/GentiumPlus-R.woff') format('woff'),\n",
       "    url('https://github.com/annotation/text-fabric/blob/master/tf/server/static/fonts/GentiumPlus-R.woff?raw=true') format('woff');\n",
       "}\n",
       "\n",
       "@font-face {\n",
       "  font-family: \"Ezra SIL\";\n",
       "  src: local('Ezra SIL'), local('EzraSIL'),\n",
       "    url('/server/static/fonts/SILEOT.woff') format('woff'),\n",
       "    url('https://github.com/annotation/text-fabric/blob/master/tf/server/static/fonts/SILEOT.woff?raw=true') format('woff');\n",
       "}\n",
       "\n",
       "@font-face {\n",
       "  font-family: \"SBL Hebrew\";\n",
       "  src: local('SBL Hebrew'), local('SBLHebrew'),\n",
       "    url('/server/static/fonts/SBL_Hbrw.woff') format('woff'),\n",
       "    url('https://github.com/annotation/text-fabric/blob/master/tf/server/static/fonts/SBL_Hbrw.woff?raw=true') format('woff');\n",
       "}\n",
       "\n",
       "@font-face {\n",
       "  font-family: \"Estrangelo Edessa\";\n",
       "  src: local('Estrangelo Edessa'), local('EstrangeloEdessa');\n",
       "    url('/server/static/fonts/SyrCOMEdessa.woff') format('woff'),\n",
       "    url('https://github.com/annotation/text-fabric/blob/master/tf/server/static/fonts/SyrCOMEdessa.woff?raw=true') format('woff');\n",
       "}\n",
       "\n",
       "@font-face {\n",
       "  font-family: AmiriQuran;\n",
       "  font-style: normal;\n",
       "  font-weight: 400;\n",
       "  src: local('Amiri Quran'), local('AmiriQuran'),\n",
       "    url('/server/static/fonts/AmiriQuran.woff') format('woff'),\n",
       "    url('https://github.com/annotation/text-fabric/blob/master/tf/server/static/fonts/AmiriQuran.woff?raw=true') format('woff');\n",
       "}\n",
       "\n",
       "@font-face {\n",
       "  font-family: AmiriQuranColored;\n",
       "  font-style: normal;\n",
       "  font-weight: 400;\n",
       "  src: local('Amiri Quran Colored'), local('AmiriQuranColored'),\n",
       "    url('/server/static/fonts/AmiriQuranColored.woff') format('woff'),\n",
       "    url('https://github.com/annotation/text-fabric/blob/master/tf/server/static/fonts/AmiriQuranColored.woff?raw=true') format('woff');\n",
       "}\n",
       "\n",
       "@font-face {\n",
       "  font-family: \"Santakku\";\n",
       "  src: local('Santakku'),\n",
       "    url('/server/static/fonts/Santakku.woff') format('woff'),\n",
       "    url('https://github.com/annotation/text-fabric/blob/master/tf/server/static/fonts/Santakku.woff?raw=true') format('woff');\n",
       "}\n",
       "\n",
       "@font-face {\n",
       "  font-family: \"SantakkuM\";\n",
       "  src: local('SantakkuM'),\n",
       "    url('/server/static/fonts/SantakkuM.woff') format('woff'),\n",
       "    url('https://github.com/annotation/text-fabric/blob/master/tf/server/static/fonts/SantakkuM.woff?raw=true') format('woff');\n",
       "}\n",
       "/* bypassing some classical notebook settings */\n",
       "div#notebook {\n",
       "  line-height: unset;\n",
       "}\n",
       "/* neutral text */\n",
       ".txtn,.txtn a:visited,.txtn a:link {\n",
       "    font-family: sans-serif;\n",
       "    font-size: medium;\n",
       "    direction: ltr;\n",
       "    unicode-bidi: embed;\n",
       "    text-decoration: none;\n",
       "    color: var(--text-color);\n",
       "}\n",
       "/* transcription text */\n",
       ".txtt,.txtt a:visited,.txtt a:link {\n",
       "    font-family: monospace;\n",
       "    font-size: medium;\n",
       "    direction: ltr;\n",
       "    unicode-bidi: embed;\n",
       "    text-decoration: none;\n",
       "    color: var(--text-color);\n",
       "}\n",
       "/* source text */\n",
       ".txto,.txto a:visited,.txto a:link {\n",
       "    font-family: serif;\n",
       "    font-size: medium;\n",
       "    direction: ltr;\n",
       "    unicode-bidi: embed;\n",
       "    text-decoration: none;\n",
       "    color: var(--text-color);\n",
       "}\n",
       "/* phonetic text */\n",
       ".txtp,.txtp a:visited,.txtp a:link {\n",
       "    font-family: Gentium, sans-serif;\n",
       "    font-size: medium;\n",
       "    direction: ltr;\n",
       "    unicode-bidi: embed;\n",
       "    text-decoration: none;\n",
       "    color: var(--text-color);\n",
       "}\n",
       "/* original script text */\n",
       ".txtu,.txtu a:visited,.txtu a:link {\n",
       "    font-family: Gentium, sans-serif;\n",
       "    font-size: medium;\n",
       "    text-decoration: none;\n",
       "    color: var(--text-color);\n",
       "}\n",
       "/* hebrew */\n",
       ".txtu.hbo,.lex.hbo {\n",
       "    font-family: \"Ezra SIL\", \"SBL Hebrew\", sans-serif;\n",
       "    font-size: large;\n",
       "    direction: rtl ! important;\n",
       "    unicode-bidi: embed;\n",
       "}\n",
       "/* syriac */\n",
       ".txtu.syc,.lex.syc {\n",
       "    font-family: \"Estrangelo Edessa\", sans-serif;\n",
       "    font-size: medium;\n",
       "    direction: rtl ! important;\n",
       "    unicode-bidi: embed;\n",
       "}\n",
       "/* neo aramaic */\n",
       ".txtu.cld,.lex.cld {\n",
       "    font-family: \"CharisSIL-R\", sans-serif;\n",
       "    font-size: medium;\n",
       "    direction: ltr ! important;\n",
       "    unicode-bidi: embed;\n",
       "}\n",
       "/* standard arabic */\n",
       ".txtu.ara,.lex.ara {\n",
       "    font-family: \"AmiriQuran\", sans-serif;\n",
       "    font-size: large;\n",
       "    direction: rtl ! important;\n",
       "    unicode-bidi: embed;\n",
       "}\n",
       "/* cuneiform */\n",
       ".txtu.akk,.lex.akk {\n",
       "    font-family: Santakku, sans-serif;\n",
       "    font-size: large;\n",
       "    direction: ltr ! important;\n",
       "    unicode-bidi: embed;\n",
       "}\n",
       "/* greek */\n",
       ".txtu.grc,.lex.grc a:link {\n",
       "    font-family: Gentium, sans-serif;\n",
       "    font-size: medium;\n",
       "    direction: ltr ! important;\n",
       "    unicode-bidi: embed;\n",
       "}\n",
       "a:hover {\n",
       "    text-decoration: underline | important;\n",
       "    color: #0000ff | important;\n",
       "}\n",
       ".ltr {\n",
       "    direction: ltr ! important;\n",
       "    unicode-bidi: embed;\n",
       "}\n",
       ".rtl {\n",
       "    direction: rtl ! important;\n",
       "    unicode-bidi: embed;\n",
       "}\n",
       ".ubd {\n",
       "    unicode-bidi: embed;\n",
       "}\n",
       ".col {\n",
       "   display: inline-block;\n",
       "}\n",
       ".features {\n",
       "    font-family: monospace;\n",
       "    font-size: medium;\n",
       "    font-weight: bold;\n",
       "    color: var(--features);\n",
       "    display: flex;\n",
       "    flex-flow: column nowrap;\n",
       "    justify-content: flex-start;\n",
       "    align-items: flex-start;\n",
       "    align-content: flex-start;\n",
       "    padding: 2px;\n",
       "    margin: 2px;\n",
       "    direction: ltr;\n",
       "    unicode-bidi: embed;\n",
       "    border: var(--meta-width) solid var(--meta-color);\n",
       "    border-radius: var(--meta-width);\n",
       "}\n",
       ".features div,.features span {\n",
       "    padding: 0;\n",
       "    margin: -2px 0;\n",
       "}\n",
       ".features .f {\n",
       "    font-family: sans-serif;\n",
       "    font-size: small;\n",
       "    font-weight: normal;\n",
       "    color: #5555bb;\n",
       "}\n",
       ".features .xft {\n",
       "  color: #000000;\n",
       "  background-color: #eeeeee;\n",
       "  font-size: medium;\n",
       "  margin: 2px 0px;\n",
       "}\n",
       ".features .xft .f {\n",
       "  color: #000000;\n",
       "  background-color: #eeeeee;\n",
       "  font-size: small;\n",
       "  font-weight: normal;\n",
       "}\n",
       ".tfsechead {\n",
       "    font-family: sans-serif;\n",
       "    font-size: small;\n",
       "    font-weight: bold;\n",
       "    color: var(--tfsechead);\n",
       "    unicode-bidi: embed;\n",
       "    text-align: start;\n",
       "}\n",
       ".structure {\n",
       "    font-family: sans-serif;\n",
       "    font-size: small;\n",
       "    font-weight: bold;\n",
       "    color: var(--structure);\n",
       "    unicode-bidi: embed;\n",
       "    text-align: start;\n",
       "}\n",
       ".comments {\n",
       "    display: flex;\n",
       "    justify-content: flex-start;\n",
       "    align-items: flex-start;\n",
       "    align-content: flex-start;\n",
       "    flex-flow: column nowrap;\n",
       "}\n",
       ".nd, a:link.nd {\n",
       "    font-family: sans-serif;\n",
       "    font-size: small;\n",
       "    color: var(--node);\n",
       "    vertical-align: super;\n",
       "    direction: ltr ! important;\n",
       "    unicode-bidi: embed;\n",
       "}\n",
       ".lex {\n",
       "  color: var(--lex-color);;\n",
       "}\n",
       ".children,.children.ltr {\n",
       "    display: flex;\n",
       "    border: 0;\n",
       "    background-color: #ffffff;\n",
       "    justify-content: flex-start;\n",
       "    align-items: flex-start;\n",
       "    align-content: flex-start;\n",
       "}\n",
       ".children.stretch {\n",
       "    align-items: stretch;\n",
       "}\n",
       ".children.hor {\n",
       "    flex-flow: row nowrap;\n",
       "}\n",
       ".children.hor.wrap {\n",
       "    flex-flow: row wrap;\n",
       "}\n",
       ".children.ver {\n",
       "    flex-flow: column nowrap;\n",
       "}\n",
       ".children.ver.wrap {\n",
       "    flex-flow: column wrap;\n",
       "}\n",
       ".contnr {\n",
       "    width: fit-content;\n",
       "    display: flex;\n",
       "    justify-content: flex-start;\n",
       "    align-items: flex-start;\n",
       "    align-content: flex-start;\n",
       "    flex-flow: column nowrap;\n",
       "    background: #ffffff none repeat scroll 0 0;\n",
       "    padding:  10px 2px 2px 2px;\n",
       "    margin: 16px 2px 2px 2px;\n",
       "    border-style: solid;\n",
       "    font-size: small;\n",
       "}\n",
       ".contnr.trm {\n",
       "    background-attachment: local;\n",
       "}\n",
       ".contnr.cnul {\n",
       "    padding:  0;\n",
       "    margin: 0;\n",
       "    border-style: solid;\n",
       "    font-size: xx-small;\n",
       "}\n",
       ".contnr.cnul,.lbl.cnul {\n",
       "    border-color: var(--border-color-nul);\n",
       "    border-width: var(--border-width-nul);\n",
       "    border-radius: var(--border-width-nul);\n",
       "}\n",
       ".contnr.c0,.lbl.c0 {\n",
       "    border-color: var(--border-color0);\n",
       "    border-width: var(--border-width0);\n",
       "    border-radius: var(--border-width0);\n",
       "}\n",
       ".contnr.c1,.lbl.c1 {\n",
       "    border-color: var(--border-color1);\n",
       "    border-width: var(--border-width1);\n",
       "    border-radius: var(--border-width1);\n",
       "}\n",
       ".contnr.c2,.lbl.c2 {\n",
       "    border-color: var(--border-color2);\n",
       "    border-width: var(--border-width2);\n",
       "    border-radius: var(--border-width2);\n",
       "}\n",
       ".contnr.c3,.lbl.c3 {\n",
       "    border-color: var(--border-color3);\n",
       "    border-width: var(--border-width3);\n",
       "    border-radius: var(--border-width3);\n",
       "}\n",
       ".contnr.c4,.lbl.c4 {\n",
       "    border-color: var(--border-color4);\n",
       "    border-width: var(--border-width4);\n",
       "    border-radius: var(--border-width4);\n",
       "}\n",
       "span.plain {\n",
       "    display: inline-block;\n",
       "    white-space: pre-wrap;\n",
       "}\n",
       ".plain {\n",
       "    background-color: #ffffff;\n",
       "}\n",
       ".plain.l,.contnr.l,.contnr.l>.lbl {\n",
       "    border-left-style: dotted\n",
       "}\n",
       ".plain.r,.contnr.r,.contnr.r>.lbl {\n",
       "    border-right-style: dotted\n",
       "}\n",
       ".plain.lno,.contnr.lno,.contnr.lno>.lbl {\n",
       "    border-left-style: none\n",
       "}\n",
       ".plain.rno,.contnr.rno,.contnr.rno>.lbl {\n",
       "    border-right-style: none\n",
       "}\n",
       ".plain.l {\n",
       "    padding-left: 4px;\n",
       "    margin-left: 2px;\n",
       "    border-width: var(--border-width-plain);\n",
       "}\n",
       ".plain.r {\n",
       "    padding-right: 4px;\n",
       "    margin-right: 2px;\n",
       "    border-width: var(--border-width-plain);\n",
       "}\n",
       ".lbl {\n",
       "    font-family: monospace;\n",
       "    margin-top: -24px;\n",
       "    margin-left: 20px;\n",
       "    background: #ffffff none repeat scroll 0 0;\n",
       "    padding: 0 6px;\n",
       "    border-style: solid;\n",
       "    display: block;\n",
       "    color: var(--label)\n",
       "}\n",
       ".lbl.trm {\n",
       "    background-attachment: local;\n",
       "    margin-top: 2px;\n",
       "    margin-left: 2px;\n",
       "    padding: 2px 2px;\n",
       "    border-style: none;\n",
       "}\n",
       ".lbl.cnul {\n",
       "    font-size: xx-small;\n",
       "}\n",
       ".lbl.c0 {\n",
       "    font-size: small;\n",
       "}\n",
       ".lbl.c1 {\n",
       "    font-size: small;\n",
       "}\n",
       ".lbl.c2 {\n",
       "    font-size: medium;\n",
       "}\n",
       ".lbl.c3 {\n",
       "    font-size: medium;\n",
       "}\n",
       ".lbl.c4 {\n",
       "    font-size: large;\n",
       "}\n",
       ".occs, a:link.occs {\n",
       "    font-size: small;\n",
       "}\n",
       "\n",
       "/* PROVENANCE */\n",
       "\n",
       "div.prov {\n",
       "\tmargin: 40px;\n",
       "\tpadding: 20px;\n",
       "\tborder: 2px solid var(--fog-rim);\n",
       "}\n",
       "div.pline {\n",
       "\tdisplay: flex;\n",
       "\tflex-flow: row nowrap;\n",
       "\tjustify-content: stretch;\n",
       "\talign-items: baseline;\n",
       "}\n",
       "div.p2line {\n",
       "\tmargin-left: 2em;\n",
       "\tdisplay: flex;\n",
       "\tflex-flow: row nowrap;\n",
       "\tjustify-content: stretch;\n",
       "\talign-items: baseline;\n",
       "}\n",
       "div.psline {\n",
       "\tdisplay: flex;\n",
       "\tflex-flow: row nowrap;\n",
       "\tjustify-content: stretch;\n",
       "\talign-items: baseline;\n",
       "\tbackground-color: var(--gold-mist-back);\n",
       "}\n",
       "div.pname {\n",
       "\tflex: 0 0 5rem;\n",
       "\tfont-weight: bold;\n",
       "}\n",
       "div.pval {\n",
       "    flex: 1 1 auto;\n",
       "}\n",
       "\n",
       ":root {\n",
       "\t--node:               hsla(120, 100%,  20%, 1.0  );\n",
       "\t--label:              hsla(  0, 100%,  20%, 1.0  );\n",
       "\t--tfsechead:          hsla(  0, 100%,  25%, 1.0  );\n",
       "\t--structure:          hsla(120, 100%,  25%, 1.0  );\n",
       "\t--features:           hsla(  0,   0%,  30%, 1.0  );\n",
       "  --text-color:         hsla( 60,  80%,  10%, 1.0  );\n",
       "  --lex-color:          hsla(220,  90%,  60%, 1.0  );\n",
       "  --meta-color:         hsla(  0,   0%,  90%, 0.7  );\n",
       "  --meta-width:         3px;\n",
       "  --border-color-nul:   hsla(  0,   0%,  90%, 0.5  );\n",
       "  --border-color0:      hsla(  0,   0%,  90%, 0.9  );\n",
       "  --border-color1:      hsla(  0,   0%,  80%, 0.9  );\n",
       "  --border-color2:      hsla(  0,   0%,  70%, 0.9  );\n",
       "  --border-color3:      hsla(  0,   0%,  80%, 0.8  );\n",
       "  --border-color4:      hsla(  0,   0%,  60%, 0.9  );\n",
       "  --border-width-nul:   2px;\n",
       "  --border-width0:      2px;\n",
       "  --border-width1:      3px;\n",
       "  --border-width2:      4px;\n",
       "  --border-width3:      6px;\n",
       "  --border-width4:      5px;\n",
       "  --border-width-plain: 2px;\n",
       "}\n",
       ".hl {\n",
       "  background-color: var(--hl-strong);\n",
       "}\n",
       "span.hl {\n",
       "\tbackground-color: var(--hl-strong);\n",
       "\tborder-width: 0;\n",
       "\tborder-radius: 2px;\n",
       "\tborder-style: solid;\n",
       "}\n",
       "div.contnr.hl,div.lbl.hl {\n",
       "  background-color: var(--hl-strong);\n",
       "}\n",
       "div.contnr.hl {\n",
       "  border-color: var(--hl-rim) ! important;\n",
       "\tborder-width: 4px ! important;\n",
       "}\n",
       "\n",
       "span.hlbx {\n",
       "\tborder-color: var(--hl-rim);\n",
       "\tborder-width: 4px ! important;\n",
       "\tborder-style: solid;\n",
       "\tborder-radius: 6px;\n",
       "  padding: 4px;\n",
       "  margin: 4px;\n",
       "}\n",
       "\n",
       "span.plain {\n",
       "  display: inline-block;\n",
       "  white-space: pre-wrap;\n",
       "}\n",
       "\n",
       ":root {\n",
       "\t--hl-strong:        hsla( 60, 100%,  70%, 0.9  );\n",
       "\t--hl-rim:           hsla( 55,  80%,  50%, 1.0  );\n",
       "}\n",
       "</style>"
      ],
      "text/plain": [
       "<IPython.core.display.HTML object>"
      ]
     },
     "metadata": {},
     "output_type": "display_data"
    }
   ],
   "source": [
    "from tf.app import use\n",
    "A = use('bhsa')\n",
    "F = A.TF.api.F"
   ]
  },
  {
   "cell_type": "code",
   "execution_count": 22,
   "metadata": {},
   "outputs": [],
   "source": [
    "BOOK = \"Reges_I\"\n",
    "CHAPTER = 1\n",
    "\n",
    "RESULTS_PER_PAGE = 5\n",
    "current_page = 0\n",
    "nodes = []\n",
    "\n",
    "def run_search(word_features):\n",
    "    global nodes\n",
    "    nodes = A.search('''\n",
    "book book=%s\n",
    "    chapter chapter=%d\n",
    "        clause\n",
    "            word %s\n",
    "    '''%(BOOK, CHAPTER, word_features))\n",
    "\n",
    "def set_page(page_num):\n",
    "    global current_page\n",
    "    current_page = page_num\n",
    "\n",
    "    start = current_page * RESULTS_PER_PAGE\n",
    "    end = min((current_page + 1) * RESULTS_PER_PAGE, len(nodes))\n",
    "\n",
    "    if start >= len(nodes):\n",
    "        print(\"*** End of list ***\")\n",
    "    else:\n",
    "        print(\"Showing results %d to %d (of 0-%d)\"%(start, end - 1, len(nodes) - 1))\n",
    "        A.table(nodes[start:end])\n",
    "\n",
    "def get_node_id(item_num):\n",
    "    # The list numbers displayed by `A.table()` are 1-based, not 0-based\n",
    "    # so subtract 1\n",
    "    return nodes[current_page * RESULTS_PER_PAGE + item_num - 1][3]\n",
    "\n",
    "data = {}\n",
    "\n",
    "def tag(item_num, *tags):\n",
    "    node_id = get_node_id(item_num)\n",
    "    if data.get(node_id) == None:\n",
    "        data[node_id] = set()\n",
    "    \n",
    "    data[node_id].update(tags)\n",
    "\n",
    "def show_tags(item_num):\n",
    "    node_id = get_node_id(item_num)\n",
    "    A.pretty(node_id)\n",
    "    print(data.get(node_id))\n",
    "\n",
    "def get_data():\n",
    "    return data\n",
    "\n",
    "\n",
    "LONG = \"long yiqtol\"\n",
    "SHORT = \"short yiqtol\"\n",
    "LONG_SHORT = \"long or short yiqtol\"\n",
    "\n",
    "PERMISSIVE = \"deontic permissive\"\n",
    "OPTATIVE = \"deontic optative\"\n",
    "# obligative can be hard to differentiate further with consistency/confidence, and it can \n",
    "# overlap with other catgories\n",
    "# for the time being, just collect everything in here that broadly fits obligative /\n",
    "# precative / etc, then later categorize further\n",
    "OBLIGATIVE = \"deontic obligative\"\n",
    "D_OTHER = \"deontic other\"\n",
    "\n",
    "FINAL = \"indirect volitional final\"\n",
    "RESULTATIVE = \"indirect volitional resultative\"\n",
    "\n",
    "FUTURE = \"future\"\n",
    "HABITUAL = \"habitual\"\n",
    "\n",
    "# epistemic modality is clearly attested but relatively uncommon, so these two\n",
    "# categories should suffice initially\n",
    "ASSERTIVE = \"epistemic assertive\"\n",
    "NON_ASSERTIVE = \"epistemic non-assertive\""
   ]
  },
  {
   "cell_type": "markdown",
   "metadata": {},
   "source": [
    "# Yiqtol"
   ]
  },
  {
   "cell_type": "code",
   "execution_count": 23,
   "metadata": {},
   "outputs": [
    {
     "name": "stdout",
     "output_type": "stream",
     "text": [
      "  0.45s 33 results\n",
      "Showing results 0 to 4 (of 0-32)\n"
     ]
    },
    {
     "data": {
      "text/html": [
       "<table><tr class=\"tf rtl\"><th class=\"tf rtl\">n</th><th class=\"tf rtl\">p</th><th class=\"tf rtl\">book</th><th class=\"tf\">chapter</th><th class=\"tf\">clause</th><th class=\"tf\">word</th></tr>\n",
       "<tr class=\"tf rtl\"><td class=\"tf rtl\">1</td><td class=\"tf rtl\"><span class=\"tfsechead ltr\"><a target=\"_blank\" href=\"https://shebanq.ancient-data.org/hebrew/text?book=Reges_I&amp;chapter=1&amp;verse=1&amp;version=c&amp;mr=m&amp;qw=q&amp;tp=txt_p&amp;tr=hb&amp;wget=v&amp;qget=v&amp;nget=vt\" title=\"Show this on SHEBANQ\" sec=\"1_Kings 1:1\">1_Kings 1:1</a></span></td><td class=\"tf rtl\"><span class=\"rtl ubd\"><span class=\"txtu hbo rtl\"><span class=\"tfsechead\">1_Kings</span></span></span></td><td class=\"tf rtl\"><span class=\"rtl ubd\"><span class=\"txtu hbo rtl\"><span class=\"tfsechead\">1_Kings 1</span></span></span></td><td class=\"tf rtl\"><span class=\"rtl ubd\"><span class=\"plain rtl  hlbx\" ><span class=\"txtu hbo\">וְ</span><span class=\"txtu hbo\">לֹ֥א </span><span class=\"plain rtl  hl\" ><span class=\"txtu hbo\">יִחַ֖ם </span></span><span class=\"txtu hbo\">לֹֽו׃ </span></span></span></td><td class=\"tf rtl\"><span class=\"rtl ubd\"><span class=\"plain rtl  hl\" ><span class=\"txtu hbo\">יִחַ֖ם </span></span></span></td></tr>\n",
       "<tr class=\"tf rtl\"><td class=\"tf rtl\">2</td><td class=\"tf rtl\"><span class=\"tfsechead ltr\"><a target=\"_blank\" href=\"https://shebanq.ancient-data.org/hebrew/text?book=Reges_I&amp;chapter=1&amp;verse=2&amp;version=c&amp;mr=m&amp;qw=q&amp;tp=txt_p&amp;tr=hb&amp;wget=v&amp;qget=v&amp;nget=vt\" title=\"Show this on SHEBANQ\" sec=\"1_Kings 1:2\">1_Kings 1:2</a></span></td><td class=\"tf rtl\"><span class=\"rtl ubd\"><span class=\"txtu hbo rtl\"><span class=\"tfsechead\">1_Kings</span></span></span></td><td class=\"tf rtl\"><span class=\"rtl ubd\"><span class=\"txtu hbo rtl\"><span class=\"tfsechead\">1_Kings 1</span></span></span></td><td class=\"tf rtl\"><span class=\"rtl ubd\"><span class=\"plain rtl  hlbx\" ><span class=\"plain rtl  hl\" ><span class=\"txtu hbo\">יְבַקְשׁ֞וּ </span></span><span class=\"txtu hbo\">לַ</span><span class=\"txtu hbo\">אדֹנִ֤י </span><span class=\"txtu hbo\">הַ</span><span class=\"txtu hbo\">מֶּ֨לֶךְ֙ </span><span class=\"txtu hbo\">נַעֲרָ֣ה </span><span class=\"txtu hbo\">בְתוּלָ֔ה </span></span></span></td><td class=\"tf rtl\"><span class=\"rtl ubd\"><span class=\"plain rtl  hl\" ><span class=\"txtu hbo\">יְבַקְשׁ֞וּ </span></span></span></td></tr>\n",
       "<tr class=\"tf rtl\"><td class=\"tf rtl\">3</td><td class=\"tf rtl\"><span class=\"tfsechead ltr\"><a target=\"_blank\" href=\"https://shebanq.ancient-data.org/hebrew/text?book=Reges_I&amp;chapter=1&amp;verse=2&amp;version=c&amp;mr=m&amp;qw=q&amp;tp=txt_p&amp;tr=hb&amp;wget=v&amp;qget=v&amp;nget=vt\" title=\"Show this on SHEBANQ\" sec=\"1_Kings 1:2\">1_Kings 1:2</a></span></td><td class=\"tf rtl\"><span class=\"rtl ubd\"><span class=\"txtu hbo rtl\"><span class=\"tfsechead\">1_Kings</span></span></span></td><td class=\"tf rtl\"><span class=\"rtl ubd\"><span class=\"txtu hbo rtl\"><span class=\"tfsechead\">1_Kings 1</span></span></span></td><td class=\"tf rtl\"><span class=\"rtl ubd\"><span class=\"plain rtl  hlbx\" ><span class=\"txtu hbo\">וּ</span><span class=\"plain rtl  hl\" ><span class=\"txtu hbo\">תְהִי־</span></span><span class=\"txtu hbo\">לֹ֖ו </span><span class=\"txtu hbo\">סֹכֶ֑נֶת </span></span></span></td><td class=\"tf rtl\"><span class=\"rtl ubd\"><span class=\"plain rtl  hl\" ><span class=\"txtu hbo\">תְהִי־</span></span></span></td></tr>\n",
       "<tr class=\"tf rtl\"><td class=\"tf rtl\">4</td><td class=\"tf rtl\"><span class=\"tfsechead ltr\"><a target=\"_blank\" href=\"https://shebanq.ancient-data.org/hebrew/text?book=Reges_I&amp;chapter=1&amp;verse=5&amp;version=c&amp;mr=m&amp;qw=q&amp;tp=txt_p&amp;tr=hb&amp;wget=v&amp;qget=v&amp;nget=vt\" title=\"Show this on SHEBANQ\" sec=\"1_Kings 1:5\">1_Kings 1:5</a></span></td><td class=\"tf rtl\"><span class=\"rtl ubd\"><span class=\"txtu hbo rtl\"><span class=\"tfsechead\">1_Kings</span></span></span></td><td class=\"tf rtl\"><span class=\"rtl ubd\"><span class=\"txtu hbo rtl\"><span class=\"tfsechead\">1_Kings 1</span></span></span></td><td class=\"tf rtl\"><span class=\"rtl ubd\"><span class=\"plain rtl  hlbx\" ><span class=\"txtu hbo\">אֲנִ֣י </span><span class=\"plain rtl  hl\" ><span class=\"txtu hbo\">אֶמְלֹ֑ךְ </span></span></span></span></td><td class=\"tf rtl\"><span class=\"rtl ubd\"><span class=\"plain rtl  hl\" ><span class=\"txtu hbo\">אֶמְלֹ֑ךְ </span></span></span></td></tr>\n",
       "<tr class=\"tf rtl\"><td class=\"tf rtl\">5</td><td class=\"tf rtl\"><span class=\"tfsechead ltr\"><a target=\"_blank\" href=\"https://shebanq.ancient-data.org/hebrew/text?book=Reges_I&amp;chapter=1&amp;verse=12&amp;version=c&amp;mr=m&amp;qw=q&amp;tp=txt_p&amp;tr=hb&amp;wget=v&amp;qget=v&amp;nget=vt\" title=\"Show this on SHEBANQ\" sec=\"1_Kings 1:12\">1_Kings 1:12</a></span></td><td class=\"tf rtl\"><span class=\"rtl ubd\"><span class=\"txtu hbo rtl\"><span class=\"tfsechead\">1_Kings</span></span></span></td><td class=\"tf rtl\"><span class=\"rtl ubd\"><span class=\"txtu hbo rtl\"><span class=\"tfsechead\">1_Kings 1</span></span></span></td><td class=\"tf rtl\"><span class=\"rtl ubd\"><span class=\"plain rtl  hlbx\" ><span class=\"plain rtl  hl\" ><span class=\"txtu hbo\">אִיעָצֵ֥ךְ </span></span><span class=\"txtu hbo\">נָ֖א </span><span class=\"txtu hbo\">עֵצָ֑ה </span></span></span></td><td class=\"tf rtl\"><span class=\"rtl ubd\"><span class=\"plain rtl  hl\" ><span class=\"txtu hbo\">אִיעָצֵ֥ךְ </span></span></span></td></tr></table>"
      ],
      "text/plain": [
       "<IPython.core.display.HTML object>"
      ]
     },
     "metadata": {},
     "output_type": "display_data"
    }
   ],
   "source": [
    "run_search(\"vt=impf\")\n",
    "set_page(0)\n",
    "tag(1, LONG_SHORT, HABITUAL)\n",
    "tag(2, LONG_SHORT, PERMISSIVE)\n",
    "tag(3, SHORT, PERMISSIVE)\n",
    "tag(4, LONG_SHORT, D_OTHER, FUTURE,\n",
    "    \"could be deontic (various nuances) or future tense; tag as both & reconsider later\")\n",
    "tag(5, LONG_SHORT, PERMISSIVE)"
   ]
  },
  {
   "cell_type": "code",
   "execution_count": 24,
   "metadata": {},
   "outputs": [
    {
     "name": "stdout",
     "output_type": "stream",
     "text": [
      "Showing results 5 to 9 (of 0-32)\n"
     ]
    },
    {
     "data": {
      "text/html": [
       "<table><tr class=\"tf rtl\"><th class=\"tf rtl\">n</th><th class=\"tf rtl\">p</th><th class=\"tf rtl\">book</th><th class=\"tf\">chapter</th><th class=\"tf\">clause</th><th class=\"tf\">word</th></tr>\n",
       "<tr class=\"tf rtl\"><td class=\"tf rtl\">1</td><td class=\"tf rtl\"><span class=\"tfsechead ltr\"><a target=\"_blank\" href=\"https://shebanq.ancient-data.org/hebrew/text?book=Reges_I&amp;chapter=1&amp;verse=13&amp;version=c&amp;mr=m&amp;qw=q&amp;tp=txt_p&amp;tr=hb&amp;wget=v&amp;qget=v&amp;nget=vt\" title=\"Show this on SHEBANQ\" sec=\"1_Kings 1:13\">1_Kings 1:13</a></span></td><td class=\"tf rtl\"><span class=\"rtl ubd\"><span class=\"txtu hbo rtl\"><span class=\"tfsechead\">1_Kings</span></span></span></td><td class=\"tf rtl\"><span class=\"rtl ubd\"><span class=\"txtu hbo rtl\"><span class=\"tfsechead\">1_Kings 1</span></span></span></td><td class=\"tf rtl\"><span class=\"rtl ubd\"><span class=\"plain rtl  hlbx\" ><span class=\"txtu hbo\">כִּֽי־</span><span class=\"txtu hbo\">שְׁלֹמֹ֤ה </span><span class=\"txtu hbo\">בְנֵךְ֙ </span><span class=\"plain rtl  hl\" ><span class=\"txtu hbo\">יִמְלֹ֣ךְ </span></span><span class=\"txtu hbo\">אַחֲרַ֔י </span></span></span></td><td class=\"tf rtl\"><span class=\"rtl ubd\"><span class=\"plain rtl  hl\" ><span class=\"txtu hbo\">יִמְלֹ֣ךְ </span></span></span></td></tr>\n",
       "<tr class=\"tf rtl\"><td class=\"tf rtl\">2</td><td class=\"tf rtl\"><span class=\"tfsechead ltr\"><a target=\"_blank\" href=\"https://shebanq.ancient-data.org/hebrew/text?book=Reges_I&amp;chapter=1&amp;verse=13&amp;version=c&amp;mr=m&amp;qw=q&amp;tp=txt_p&amp;tr=hb&amp;wget=v&amp;qget=v&amp;nget=vt\" title=\"Show this on SHEBANQ\" sec=\"1_Kings 1:13\">1_Kings 1:13</a></span></td><td class=\"tf rtl\"><span class=\"rtl ubd\"><span class=\"txtu hbo rtl\"><span class=\"tfsechead\">1_Kings</span></span></span></td><td class=\"tf rtl\"><span class=\"rtl ubd\"><span class=\"txtu hbo rtl\"><span class=\"tfsechead\">1_Kings 1</span></span></span></td><td class=\"tf rtl\"><span class=\"rtl ubd\"><span class=\"plain rtl  hlbx\" ><span class=\"txtu hbo\">וְ</span><span class=\"txtu hbo\">ה֖וּא </span><span class=\"plain rtl  hl\" ><span class=\"txtu hbo\">יֵשֵׁ֣ב </span></span><span class=\"txtu hbo\">עַל־</span><span class=\"txtu hbo\">כִּסְאִ֑י </span></span></span></td><td class=\"tf rtl\"><span class=\"rtl ubd\"><span class=\"plain rtl  hl\" ><span class=\"txtu hbo\">יֵשֵׁ֣ב </span></span></span></td></tr>\n",
       "<tr class=\"tf rtl\"><td class=\"tf rtl\">3</td><td class=\"tf rtl\"><span class=\"tfsechead ltr\"><a target=\"_blank\" href=\"https://shebanq.ancient-data.org/hebrew/text?book=Reges_I&amp;chapter=1&amp;verse=14&amp;version=c&amp;mr=m&amp;qw=q&amp;tp=txt_p&amp;tr=hb&amp;wget=v&amp;qget=v&amp;nget=vt\" title=\"Show this on SHEBANQ\" sec=\"1_Kings 1:14\">1_Kings 1:14</a></span></td><td class=\"tf rtl\"><span class=\"rtl ubd\"><span class=\"txtu hbo rtl\"><span class=\"tfsechead\">1_Kings</span></span></span></td><td class=\"tf rtl\"><span class=\"rtl ubd\"><span class=\"txtu hbo rtl\"><span class=\"tfsechead\">1_Kings 1</span></span></span></td><td class=\"tf rtl\"><span class=\"rtl ubd\"><span class=\"plain rtl  hlbx\" ><span class=\"txtu hbo\">וַ</span><span class=\"txtu hbo\">אֲנִי֙ </span><span class=\"plain rtl  hl\" ><span class=\"txtu hbo\">אָבֹ֣וא </span></span><span class=\"txtu hbo\">אַחֲרַ֔יִךְ </span></span></span></td><td class=\"tf rtl\"><span class=\"rtl ubd\"><span class=\"plain rtl  hl\" ><span class=\"txtu hbo\">אָבֹ֣וא </span></span></span></td></tr>\n",
       "<tr class=\"tf rtl\"><td class=\"tf rtl\">4</td><td class=\"tf rtl\"><span class=\"tfsechead ltr\"><a target=\"_blank\" href=\"https://shebanq.ancient-data.org/hebrew/text?book=Reges_I&amp;chapter=1&amp;verse=17&amp;version=c&amp;mr=m&amp;qw=q&amp;tp=txt_p&amp;tr=hb&amp;wget=v&amp;qget=v&amp;nget=vt\" title=\"Show this on SHEBANQ\" sec=\"1_Kings 1:17\">1_Kings 1:17</a></span></td><td class=\"tf rtl\"><span class=\"rtl ubd\"><span class=\"txtu hbo rtl\"><span class=\"tfsechead\">1_Kings</span></span></span></td><td class=\"tf rtl\"><span class=\"rtl ubd\"><span class=\"txtu hbo rtl\"><span class=\"tfsechead\">1_Kings 1</span></span></span></td><td class=\"tf rtl\"><span class=\"rtl ubd\"><span class=\"plain rtl  hlbx\" ><span class=\"txtu hbo\">כִּֽי־</span><span class=\"txtu hbo\">שְׁלֹמֹ֥ה </span><span class=\"txtu hbo\">בְנֵ֖ךְ </span><span class=\"plain rtl  hl\" ><span class=\"txtu hbo\">יִמְלֹ֣ךְ </span></span><span class=\"txtu hbo\">אַחֲרָ֑י </span></span></span></td><td class=\"tf rtl\"><span class=\"rtl ubd\"><span class=\"plain rtl  hl\" ><span class=\"txtu hbo\">יִמְלֹ֣ךְ </span></span></span></td></tr>\n",
       "<tr class=\"tf rtl\"><td class=\"tf rtl\">5</td><td class=\"tf rtl\"><span class=\"tfsechead ltr\"><a target=\"_blank\" href=\"https://shebanq.ancient-data.org/hebrew/text?book=Reges_I&amp;chapter=1&amp;verse=17&amp;version=c&amp;mr=m&amp;qw=q&amp;tp=txt_p&amp;tr=hb&amp;wget=v&amp;qget=v&amp;nget=vt\" title=\"Show this on SHEBANQ\" sec=\"1_Kings 1:17\">1_Kings 1:17</a></span></td><td class=\"tf rtl\"><span class=\"rtl ubd\"><span class=\"txtu hbo rtl\"><span class=\"tfsechead\">1_Kings</span></span></span></td><td class=\"tf rtl\"><span class=\"rtl ubd\"><span class=\"txtu hbo rtl\"><span class=\"tfsechead\">1_Kings 1</span></span></span></td><td class=\"tf rtl\"><span class=\"rtl ubd\"><span class=\"plain rtl  hlbx\" ><span class=\"txtu hbo\">וְ</span><span class=\"txtu hbo\">ה֖וּא </span><span class=\"plain rtl  hl\" ><span class=\"txtu hbo\">יֵשֵׁ֥ב </span></span><span class=\"txtu hbo\">עַל־</span><span class=\"txtu hbo\">כִּסְאִֽי׃ </span></span></span></td><td class=\"tf rtl\"><span class=\"rtl ubd\"><span class=\"plain rtl  hl\" ><span class=\"txtu hbo\">יֵשֵׁ֥ב </span></span></span></td></tr></table>"
      ],
      "text/plain": [
       "<IPython.core.display.HTML object>"
      ]
     },
     "metadata": {},
     "output_type": "display_data"
    }
   ],
   "source": [
    "set_page(1)\n",
    "tag(1, LONG_SHORT, FUTURE, D_OTHER, \"future or possibly deontic; cf. 1:17\")\n",
    "tag(2, LONG_SHORT, FUTURE, D_OTHER, \"future or possibly deontic; cf. 1:17\")\n",
    "tag(3, LONG_SHORT, FUTURE)\n",
    "tag(4, LONG_SHORT, FUTURE, D_OTHER, \"future or possibly deontic; cf. 1:13\")\n",
    "tag(5, LONG_SHORT, FUTURE, D_OTHER, \"future or possibly deontic; cf. 1:13\")"
   ]
  },
  {
   "cell_type": "code",
   "execution_count": 25,
   "metadata": {},
   "outputs": [
    {
     "name": "stdout",
     "output_type": "stream",
     "text": [
      "Showing results 10 to 14 (of 0-32)\n"
     ]
    },
    {
     "data": {
      "text/html": [
       "<table><tr class=\"tf rtl\"><th class=\"tf rtl\">n</th><th class=\"tf rtl\">p</th><th class=\"tf rtl\">book</th><th class=\"tf\">chapter</th><th class=\"tf\">clause</th><th class=\"tf\">word</th></tr>\n",
       "<tr class=\"tf rtl\"><td class=\"tf rtl\">1</td><td class=\"tf rtl\"><span class=\"tfsechead ltr\"><a target=\"_blank\" href=\"https://shebanq.ancient-data.org/hebrew/text?book=Reges_I&amp;chapter=1&amp;verse=20&amp;version=c&amp;mr=m&amp;qw=q&amp;tp=txt_p&amp;tr=hb&amp;wget=v&amp;qget=v&amp;nget=vt\" title=\"Show this on SHEBANQ\" sec=\"1_Kings 1:20\">1_Kings 1:20</a></span></td><td class=\"tf rtl\"><span class=\"rtl ubd\"><span class=\"txtu hbo rtl\"><span class=\"tfsechead\">1_Kings</span></span></span></td><td class=\"tf rtl\"><span class=\"rtl ubd\"><span class=\"txtu hbo rtl\"><span class=\"tfsechead\">1_Kings 1</span></span></span></td><td class=\"tf rtl\"><span class=\"rtl ubd\"><span class=\"plain rtl  hlbx\" ><span class=\"txtu hbo\">מִ֗י </span><span class=\"plain rtl  hl\" ><span class=\"txtu hbo\">יֵשֵׁ֛ב </span></span><span class=\"txtu hbo\">עַל־</span><span class=\"txtu hbo\">כִּסֵּ֥א </span><span class=\"txtu hbo\">אֲדֹנִֽי־</span><span class=\"txtu hbo\">הַ</span><span class=\"txtu hbo\">מֶּ֖לֶךְ </span><span class=\"txtu hbo\">אַחֲרָֽיו׃ </span></span></span></td><td class=\"tf rtl\"><span class=\"rtl ubd\"><span class=\"plain rtl  hl\" ><span class=\"txtu hbo\">יֵשֵׁ֛ב </span></span></span></td></tr>\n",
       "<tr class=\"tf rtl\"><td class=\"tf rtl\">2</td><td class=\"tf rtl\"><span class=\"tfsechead ltr\"><a target=\"_blank\" href=\"https://shebanq.ancient-data.org/hebrew/text?book=Reges_I&amp;chapter=1&amp;verse=24&amp;version=c&amp;mr=m&amp;qw=q&amp;tp=txt_p&amp;tr=hb&amp;wget=v&amp;qget=v&amp;nget=vt\" title=\"Show this on SHEBANQ\" sec=\"1_Kings 1:24\">1_Kings 1:24</a></span></td><td class=\"tf rtl\"><span class=\"rtl ubd\"><span class=\"txtu hbo rtl\"><span class=\"tfsechead\">1_Kings</span></span></span></td><td class=\"tf rtl\"><span class=\"rtl ubd\"><span class=\"txtu hbo rtl\"><span class=\"tfsechead\">1_Kings 1</span></span></span></td><td class=\"tf rtl\"><span class=\"rtl ubd\"><span class=\"plain rtl  hlbx\" ><span class=\"txtu hbo\">אֲדֹנִיָּ֖הוּ </span><span class=\"plain rtl  hl\" ><span class=\"txtu hbo\">יִמְלֹ֣ךְ </span></span><span class=\"txtu hbo\">אַחֲרָ֑י </span></span></span></td><td class=\"tf rtl\"><span class=\"rtl ubd\"><span class=\"plain rtl  hl\" ><span class=\"txtu hbo\">יִמְלֹ֣ךְ </span></span></span></td></tr>\n",
       "<tr class=\"tf rtl\"><td class=\"tf rtl\">3</td><td class=\"tf rtl\"><span class=\"tfsechead ltr\"><a target=\"_blank\" href=\"https://shebanq.ancient-data.org/hebrew/text?book=Reges_I&amp;chapter=1&amp;verse=24&amp;version=c&amp;mr=m&amp;qw=q&amp;tp=txt_p&amp;tr=hb&amp;wget=v&amp;qget=v&amp;nget=vt\" title=\"Show this on SHEBANQ\" sec=\"1_Kings 1:24\">1_Kings 1:24</a></span></td><td class=\"tf rtl\"><span class=\"rtl ubd\"><span class=\"txtu hbo rtl\"><span class=\"tfsechead\">1_Kings</span></span></span></td><td class=\"tf rtl\"><span class=\"rtl ubd\"><span class=\"txtu hbo rtl\"><span class=\"tfsechead\">1_Kings 1</span></span></span></td><td class=\"tf rtl\"><span class=\"rtl ubd\"><span class=\"plain rtl  hlbx\" ><span class=\"txtu hbo\">וְ</span><span class=\"txtu hbo\">ה֖וּא </span><span class=\"plain rtl  hl\" ><span class=\"txtu hbo\">יֵשֵׁ֥ב </span></span><span class=\"txtu hbo\">עַל־</span><span class=\"txtu hbo\">כִּסְאִֽי׃ </span></span></span></td><td class=\"tf rtl\"><span class=\"rtl ubd\"><span class=\"plain rtl  hl\" ><span class=\"txtu hbo\">יֵשֵׁ֥ב </span></span></span></td></tr>\n",
       "<tr class=\"tf rtl\"><td class=\"tf rtl\">4</td><td class=\"tf rtl\"><span class=\"tfsechead ltr\"><a target=\"_blank\" href=\"https://shebanq.ancient-data.org/hebrew/text?book=Reges_I&amp;chapter=1&amp;verse=25&amp;version=c&amp;mr=m&amp;qw=q&amp;tp=txt_p&amp;tr=hb&amp;wget=v&amp;qget=v&amp;nget=vt\" title=\"Show this on SHEBANQ\" sec=\"1_Kings 1:25\">1_Kings 1:25</a></span></td><td class=\"tf rtl\"><span class=\"rtl ubd\"><span class=\"txtu hbo rtl\"><span class=\"tfsechead\">1_Kings</span></span></span></td><td class=\"tf rtl\"><span class=\"rtl ubd\"><span class=\"txtu hbo rtl\"><span class=\"tfsechead\">1_Kings 1</span></span></span></td><td class=\"tf rtl\"><span class=\"rtl ubd\"><span class=\"plain rtl  hlbx\" ><span class=\"plain rtl  hl\" ><span class=\"txtu hbo\">יְחִ֖י </span></span><span class=\"txtu hbo\">הַ</span><span class=\"txtu hbo\">מֶּ֥לֶךְ </span><span class=\"txtu hbo\">אֲדֹנִיָּֽהוּ׃ </span></span></span></td><td class=\"tf rtl\"><span class=\"rtl ubd\"><span class=\"plain rtl  hl\" ><span class=\"txtu hbo\">יְחִ֖י </span></span></span></td></tr>\n",
       "<tr class=\"tf rtl\"><td class=\"tf rtl\">5</td><td class=\"tf rtl\"><span class=\"tfsechead ltr\"><a target=\"_blank\" href=\"https://shebanq.ancient-data.org/hebrew/text?book=Reges_I&amp;chapter=1&amp;verse=27&amp;version=c&amp;mr=m&amp;qw=q&amp;tp=txt_p&amp;tr=hb&amp;wget=v&amp;qget=v&amp;nget=vt\" title=\"Show this on SHEBANQ\" sec=\"1_Kings 1:27\">1_Kings 1:27</a></span></td><td class=\"tf rtl\"><span class=\"rtl ubd\"><span class=\"txtu hbo rtl\"><span class=\"tfsechead\">1_Kings</span></span></span></td><td class=\"tf rtl\"><span class=\"rtl ubd\"><span class=\"txtu hbo rtl\"><span class=\"tfsechead\">1_Kings 1</span></span></span></td><td class=\"tf rtl\"><span class=\"rtl ubd\"><span class=\"plain rtl  hlbx\" ><span class=\"txtu hbo\">מִ֗י </span><span class=\"plain rtl  hl\" ><span class=\"txtu hbo\">יֵשֵׁ֛ב </span></span><span class=\"txtu hbo\">עַל־</span><span class=\"txtu hbo\">כִּסֵּ֥א </span><span class=\"txtu hbo\">אֲדֹנִֽי־</span><span class=\"txtu hbo\">הַ</span><span class=\"txtu hbo\">מֶּ֖לֶךְ </span><span class=\"txtu hbo\">אַחֲרָֽיו׃ ס </span></span></span></td><td class=\"tf rtl\"><span class=\"rtl ubd\"><span class=\"plain rtl  hl\" ><span class=\"txtu hbo\">יֵשֵׁ֛ב </span></span></span></td></tr></table>"
      ],
      "text/plain": [
       "<IPython.core.display.HTML object>"
      ]
     },
     "metadata": {},
     "output_type": "display_data"
    }
   ],
   "source": [
    "set_page(2)\n",
    "tag(1, LONG_SHORT, OBLIGATIVE, FUTURE, NON_ASSERTIVE, \"indirect question\")\n",
    "tag(2, LONG_SHORT, FUTURE, D_OTHER, \"future or possibly deontic; cf. 1:13,17\")\n",
    "tag(3, LONG_SHORT, FUTURE, D_OTHER, \"future or possibly deontic; cf. 1:13,17\")\n",
    "tag(4, SHORT, OPTATIVE)\n",
    "tag(5, LONG_SHORT, OBLIGATIVE, FUTURE, NON_ASSERTIVE, \"indirect question\")"
   ]
  },
  {
   "cell_type": "code",
   "execution_count": 26,
   "metadata": {},
   "outputs": [
    {
     "name": "stdout",
     "output_type": "stream",
     "text": [
      "Showing results 15 to 19 (of 0-32)\n"
     ]
    },
    {
     "data": {
      "text/html": [
       "<table><tr class=\"tf rtl\"><th class=\"tf rtl\">n</th><th class=\"tf rtl\">p</th><th class=\"tf rtl\">book</th><th class=\"tf\">chapter</th><th class=\"tf\">clause</th><th class=\"tf\">word</th></tr>\n",
       "<tr class=\"tf rtl\"><td class=\"tf rtl\">1</td><td class=\"tf rtl\"><span class=\"tfsechead ltr\"><a target=\"_blank\" href=\"https://shebanq.ancient-data.org/hebrew/text?book=Reges_I&amp;chapter=1&amp;verse=30&amp;version=c&amp;mr=m&amp;qw=q&amp;tp=txt_p&amp;tr=hb&amp;wget=v&amp;qget=v&amp;nget=vt\" title=\"Show this on SHEBANQ\" sec=\"1_Kings 1:30\">1_Kings 1:30</a></span></td><td class=\"tf rtl\"><span class=\"rtl ubd\"><span class=\"txtu hbo rtl\"><span class=\"tfsechead\">1_Kings</span></span></span></td><td class=\"tf rtl\"><span class=\"rtl ubd\"><span class=\"txtu hbo rtl\"><span class=\"tfsechead\">1_Kings 1</span></span></span></td><td class=\"tf rtl\"><span class=\"rtl ubd\"><span class=\"plain rtl  hlbx\" ><span class=\"txtu hbo\">כִּֽי־</span><span class=\"txtu hbo\">שְׁלֹמֹ֤ה </span><span class=\"txtu hbo\">בְנֵךְ֙ </span><span class=\"plain rtl  hl\" ><span class=\"txtu hbo\">יִמְלֹ֣ךְ </span></span><span class=\"txtu hbo\">אַחֲרַ֔י </span></span></span></td><td class=\"tf rtl\"><span class=\"rtl ubd\"><span class=\"plain rtl  hl\" ><span class=\"txtu hbo\">יִמְלֹ֣ךְ </span></span></span></td></tr>\n",
       "<tr class=\"tf rtl\"><td class=\"tf rtl\">2</td><td class=\"tf rtl\"><span class=\"tfsechead ltr\"><a target=\"_blank\" href=\"https://shebanq.ancient-data.org/hebrew/text?book=Reges_I&amp;chapter=1&amp;verse=30&amp;version=c&amp;mr=m&amp;qw=q&amp;tp=txt_p&amp;tr=hb&amp;wget=v&amp;qget=v&amp;nget=vt\" title=\"Show this on SHEBANQ\" sec=\"1_Kings 1:30\">1_Kings 1:30</a></span></td><td class=\"tf rtl\"><span class=\"rtl ubd\"><span class=\"txtu hbo rtl\"><span class=\"tfsechead\">1_Kings</span></span></span></td><td class=\"tf rtl\"><span class=\"rtl ubd\"><span class=\"txtu hbo rtl\"><span class=\"tfsechead\">1_Kings 1</span></span></span></td><td class=\"tf rtl\"><span class=\"rtl ubd\"><span class=\"plain rtl  hlbx\" ><span class=\"txtu hbo\">וְ</span><span class=\"txtu hbo\">ה֛וּא </span><span class=\"plain rtl  hl\" ><span class=\"txtu hbo\">יֵשֵׁ֥ב </span></span><span class=\"txtu hbo\">עַל־</span><span class=\"txtu hbo\">כִּסְאִ֖י </span><span class=\"txtu hbo\">תַּחְתָּ֑י </span></span></span></td><td class=\"tf rtl\"><span class=\"rtl ubd\"><span class=\"plain rtl  hl\" ><span class=\"txtu hbo\">יֵשֵׁ֥ב </span></span></span></td></tr>\n",
       "<tr class=\"tf rtl\"><td class=\"tf rtl\">3</td><td class=\"tf rtl\"><span class=\"tfsechead ltr\"><a target=\"_blank\" href=\"https://shebanq.ancient-data.org/hebrew/text?book=Reges_I&amp;chapter=1&amp;verse=30&amp;version=c&amp;mr=m&amp;qw=q&amp;tp=txt_p&amp;tr=hb&amp;wget=v&amp;qget=v&amp;nget=vt\" title=\"Show this on SHEBANQ\" sec=\"1_Kings 1:30\">1_Kings 1:30</a></span></td><td class=\"tf rtl\"><span class=\"rtl ubd\"><span class=\"txtu hbo rtl\"><span class=\"tfsechead\">1_Kings</span></span></span></td><td class=\"tf rtl\"><span class=\"rtl ubd\"><span class=\"txtu hbo rtl\"><span class=\"tfsechead\">1_Kings 1</span></span></span></td><td class=\"tf rtl\"><span class=\"rtl ubd\"><span class=\"plain rtl  hlbx\" ><span class=\"txtu hbo\">כִּ֛י </span><span class=\"txtu hbo\">כֵּ֥ן </span><span class=\"plain rtl  hl\" ><span class=\"txtu hbo\">אֶעֱשֶׂ֖ה </span></span><span class=\"txtu hbo\">הַ</span><span class=\"txtu hbo\">יֹּ֥ום </span><span class=\"txtu hbo\">הַ</span><span class=\"txtu hbo\">זֶּֽה׃ </span></span></span></td><td class=\"tf rtl\"><span class=\"rtl ubd\"><span class=\"plain rtl  hl\" ><span class=\"txtu hbo\">אֶעֱשֶׂ֖ה </span></span></span></td></tr>\n",
       "<tr class=\"tf rtl\"><td class=\"tf rtl\">4</td><td class=\"tf rtl\"><span class=\"tfsechead ltr\"><a target=\"_blank\" href=\"https://shebanq.ancient-data.org/hebrew/text?book=Reges_I&amp;chapter=1&amp;verse=31&amp;version=c&amp;mr=m&amp;qw=q&amp;tp=txt_p&amp;tr=hb&amp;wget=v&amp;qget=v&amp;nget=vt\" title=\"Show this on SHEBANQ\" sec=\"1_Kings 1:31\">1_Kings 1:31</a></span></td><td class=\"tf rtl\"><span class=\"rtl ubd\"><span class=\"txtu hbo rtl\"><span class=\"tfsechead\">1_Kings</span></span></span></td><td class=\"tf rtl\"><span class=\"rtl ubd\"><span class=\"txtu hbo rtl\"><span class=\"tfsechead\">1_Kings 1</span></span></span></td><td class=\"tf rtl\"><span class=\"rtl ubd\"><span class=\"plain rtl  hlbx\" ><span class=\"plain rtl  hl\" ><span class=\"txtu hbo\">יְחִ֗י </span></span><span class=\"txtu hbo\">אֲדֹנִ֛י </span><span class=\"txtu hbo\">הַ</span><span class=\"txtu hbo\">מֶּ֥לֶךְ </span><span class=\"txtu hbo\">דָּוִ֖ד </span><span class=\"txtu hbo\">לְ</span><span class=\"txtu hbo\">עֹלָֽם׃ פ </span></span></span></td><td class=\"tf rtl\"><span class=\"rtl ubd\"><span class=\"plain rtl  hl\" ><span class=\"txtu hbo\">יְחִ֗י </span></span></span></td></tr>\n",
       "<tr class=\"tf rtl\"><td class=\"tf rtl\">5</td><td class=\"tf rtl\"><span class=\"tfsechead ltr\"><a target=\"_blank\" href=\"https://shebanq.ancient-data.org/hebrew/text?book=Reges_I&amp;chapter=1&amp;verse=34&amp;version=c&amp;mr=m&amp;qw=q&amp;tp=txt_p&amp;tr=hb&amp;wget=v&amp;qget=v&amp;nget=vt\" title=\"Show this on SHEBANQ\" sec=\"1_Kings 1:34\">1_Kings 1:34</a></span></td><td class=\"tf rtl\"><span class=\"rtl ubd\"><span class=\"txtu hbo rtl\"><span class=\"tfsechead\">1_Kings</span></span></span></td><td class=\"tf rtl\"><span class=\"rtl ubd\"><span class=\"txtu hbo rtl\"><span class=\"tfsechead\">1_Kings 1</span></span></span></td><td class=\"tf rtl\"><span class=\"rtl ubd\"><span class=\"plain rtl  hlbx\" ><span class=\"plain rtl  hl\" ><span class=\"txtu hbo\">יְחִ֖י </span></span><span class=\"txtu hbo\">הַ</span><span class=\"txtu hbo\">מֶּ֥לֶךְ </span><span class=\"txtu hbo\">שְׁלֹמֹֽה׃ </span></span></span></td><td class=\"tf rtl\"><span class=\"rtl ubd\"><span class=\"plain rtl  hl\" ><span class=\"txtu hbo\">יְחִ֖י </span></span></span></td></tr></table>"
      ],
      "text/plain": [
       "<IPython.core.display.HTML object>"
      ]
     },
     "metadata": {},
     "output_type": "display_data"
    }
   ],
   "source": [
    "set_page(3)\n",
    "tag(1, LONG_SHORT, FUTURE, \"oath\")\n",
    "tag(2, LONG_SHORT, FUTURE, \"oath\")\n",
    "tag(3, LONG, FUTURE)\n",
    "tag(4, SHORT, OPTATIVE)\n",
    "tag(5, SHORT, OPTATIVE)"
   ]
  },
  {
   "cell_type": "code",
   "execution_count": 27,
   "metadata": {},
   "outputs": [
    {
     "name": "stdout",
     "output_type": "stream",
     "text": [
      "Showing results 20 to 24 (of 0-32)\n"
     ]
    },
    {
     "data": {
      "text/html": [
       "<table><tr class=\"tf rtl\"><th class=\"tf rtl\">n</th><th class=\"tf rtl\">p</th><th class=\"tf rtl\">book</th><th class=\"tf\">chapter</th><th class=\"tf\">clause</th><th class=\"tf\">word</th></tr>\n",
       "<tr class=\"tf rtl\"><td class=\"tf rtl\">1</td><td class=\"tf rtl\"><span class=\"tfsechead ltr\"><a target=\"_blank\" href=\"https://shebanq.ancient-data.org/hebrew/text?book=Reges_I&amp;chapter=1&amp;verse=35&amp;version=c&amp;mr=m&amp;qw=q&amp;tp=txt_p&amp;tr=hb&amp;wget=v&amp;qget=v&amp;nget=vt\" title=\"Show this on SHEBANQ\" sec=\"1_Kings 1:35\">1_Kings 1:35</a></span></td><td class=\"tf rtl\"><span class=\"rtl ubd\"><span class=\"txtu hbo rtl\"><span class=\"tfsechead\">1_Kings</span></span></span></td><td class=\"tf rtl\"><span class=\"rtl ubd\"><span class=\"txtu hbo rtl\"><span class=\"tfsechead\">1_Kings 1</span></span></span></td><td class=\"tf rtl\"><span class=\"rtl ubd\"><span class=\"plain rtl  hlbx\" ><span class=\"txtu hbo\">וְ</span><span class=\"txtu hbo\">ה֥וּא </span><span class=\"plain rtl  hl\" ><span class=\"txtu hbo\">יִמְלֹ֖ךְ </span></span><span class=\"txtu hbo\">תַּחְתָּ֑י </span></span></span></td><td class=\"tf rtl\"><span class=\"rtl ubd\"><span class=\"plain rtl  hl\" ><span class=\"txtu hbo\">יִמְלֹ֖ךְ </span></span></span></td></tr>\n",
       "<tr class=\"tf rtl\"><td class=\"tf rtl\">2</td><td class=\"tf rtl\"><span class=\"tfsechead ltr\"><a target=\"_blank\" href=\"https://shebanq.ancient-data.org/hebrew/text?book=Reges_I&amp;chapter=1&amp;verse=36&amp;version=c&amp;mr=m&amp;qw=q&amp;tp=txt_p&amp;tr=hb&amp;wget=v&amp;qget=v&amp;nget=vt\" title=\"Show this on SHEBANQ\" sec=\"1_Kings 1:36\">1_Kings 1:36</a></span></td><td class=\"tf rtl\"><span class=\"rtl ubd\"><span class=\"txtu hbo rtl\"><span class=\"tfsechead\">1_Kings</span></span></span></td><td class=\"tf rtl\"><span class=\"rtl ubd\"><span class=\"txtu hbo rtl\"><span class=\"tfsechead\">1_Kings 1</span></span></span></td><td class=\"tf rtl\"><span class=\"rtl ubd\"><span class=\"plain rtl  hlbx\" ><span class=\"txtu hbo\">כֵּ֚ן </span><span class=\"plain rtl  hl\" ><span class=\"txtu hbo\">יֹאמַ֣ר </span></span><span class=\"txtu hbo\">יְהוָ֔ה </span><span class=\"txtu hbo\">אֱלֹהֵ֖י </span><span class=\"txtu hbo\">אֲדֹנִ֥י </span><span class=\"txtu hbo\">הַ</span><span class=\"txtu hbo\">מֶּֽלֶךְ׃ </span></span></span></td><td class=\"tf rtl\"><span class=\"rtl ubd\"><span class=\"plain rtl  hl\" ><span class=\"txtu hbo\">יֹאמַ֣ר </span></span></span></td></tr>\n",
       "<tr class=\"tf rtl\"><td class=\"tf rtl\">3</td><td class=\"tf rtl\"><span class=\"tfsechead ltr\"><a target=\"_blank\" href=\"https://shebanq.ancient-data.org/hebrew/text?book=Reges_I&amp;chapter=1&amp;verse=37&amp;version=c&amp;mr=m&amp;qw=q&amp;tp=txt_p&amp;tr=hb&amp;wget=v&amp;qget=v&amp;nget=vt\" title=\"Show this on SHEBANQ\" sec=\"1_Kings 1:37\">1_Kings 1:37</a></span></td><td class=\"tf rtl\"><span class=\"rtl ubd\"><span class=\"txtu hbo rtl\"><span class=\"tfsechead\">1_Kings</span></span></span></td><td class=\"tf rtl\"><span class=\"rtl ubd\"><span class=\"txtu hbo rtl\"><span class=\"tfsechead\">1_Kings 1</span></span></span></td><td class=\"tf rtl\"><span class=\"rtl ubd\"><span class=\"plain rtl  hlbx\" ><span class=\"txtu hbo\">כֵּ֖ן </span><span class=\"plain rtl  hl\" ><span class=\"txtu hbo\">יִֽהְיֶ֣ה </span></span><span class=\"txtu hbo\">עִם־</span><span class=\"txtu hbo\">שְׁלֹמֹ֑ה </span></span></span></td><td class=\"tf rtl\"><span class=\"rtl ubd\"><span class=\"plain rtl  hl\" ><span class=\"txtu hbo\">יִֽהְיֶ֣ה </span></span></span></td></tr>\n",
       "<tr class=\"tf rtl\"><td class=\"tf rtl\">4</td><td class=\"tf rtl\"><span class=\"tfsechead ltr\"><a target=\"_blank\" href=\"https://shebanq.ancient-data.org/hebrew/text?book=Reges_I&amp;chapter=1&amp;verse=37&amp;version=c&amp;mr=m&amp;qw=q&amp;tp=txt_p&amp;tr=hb&amp;wget=v&amp;qget=v&amp;nget=vt\" title=\"Show this on SHEBANQ\" sec=\"1_Kings 1:37\">1_Kings 1:37</a></span></td><td class=\"tf rtl\"><span class=\"rtl ubd\"><span class=\"txtu hbo rtl\"><span class=\"tfsechead\">1_Kings</span></span></span></td><td class=\"tf rtl\"><span class=\"rtl ubd\"><span class=\"txtu hbo rtl\"><span class=\"tfsechead\">1_Kings 1</span></span></span></td><td class=\"tf rtl\"><span class=\"rtl ubd\"><span class=\"plain rtl  hlbx\" ><span class=\"txtu hbo\">וִֽ</span><span class=\"plain rtl  hl\" ><span class=\"txtu hbo\">יגַדֵּל֙ </span></span><span class=\"txtu hbo\">אֶת־</span><span class=\"txtu hbo\">כִּסְאֹ֔ו </span><span class=\"txtu hbo\">מִ֨</span><span class=\"txtu hbo\">כִּסֵּ֔א </span><span class=\"txtu hbo\">אֲדֹנִ֖י </span><span class=\"txtu hbo\">הַ</span><span class=\"txtu hbo\">מֶּ֥לֶךְ </span><span class=\"txtu hbo\">דָּוִֽד׃ </span></span></span></td><td class=\"tf rtl\"><span class=\"rtl ubd\"><span class=\"plain rtl  hl\" ><span class=\"txtu hbo\">יגַדֵּל֙ </span></span></span></td></tr>\n",
       "<tr class=\"tf rtl\"><td class=\"tf rtl\">5</td><td class=\"tf rtl\"><span class=\"tfsechead ltr\"><a target=\"_blank\" href=\"https://shebanq.ancient-data.org/hebrew/text?book=Reges_I&amp;chapter=1&amp;verse=39&amp;version=c&amp;mr=m&amp;qw=q&amp;tp=txt_p&amp;tr=hb&amp;wget=v&amp;qget=v&amp;nget=vt\" title=\"Show this on SHEBANQ\" sec=\"1_Kings 1:39\">1_Kings 1:39</a></span></td><td class=\"tf rtl\"><span class=\"rtl ubd\"><span class=\"txtu hbo rtl\"><span class=\"tfsechead\">1_Kings</span></span></span></td><td class=\"tf rtl\"><span class=\"rtl ubd\"><span class=\"txtu hbo rtl\"><span class=\"tfsechead\">1_Kings 1</span></span></span></td><td class=\"tf rtl\"><span class=\"rtl ubd\"><span class=\"plain rtl  hlbx\" ><span class=\"plain rtl  hl\" ><span class=\"txtu hbo\">יְחִ֖י </span></span><span class=\"txtu hbo\">הַ</span><span class=\"txtu hbo\">מֶּ֥לֶךְ </span><span class=\"txtu hbo\">שְׁלֹמֹֽה׃ </span></span></span></td><td class=\"tf rtl\"><span class=\"rtl ubd\"><span class=\"plain rtl  hl\" ><span class=\"txtu hbo\">יְחִ֖י </span></span></span></td></tr></table>"
      ],
      "text/plain": [
       "<IPython.core.display.HTML object>"
      ]
     },
     "metadata": {},
     "output_type": "display_data"
    }
   ],
   "source": [
    "set_page(4)\n",
    "tag(1, LONG_SHORT, FUTURE, D_OTHER, \"future or possibly deontic; cf. 1:13,17,24\")\n",
    "tag(2, LONG_SHORT, OPTATIVE)\n",
    "tag(3, LONG, OPTATIVE)\n",
    "tag(4, LONG_SHORT, OPTATIVE, FINAL, \"optative or possibly final\")\n",
    "tag(5, SHORT, OPTATIVE)"
   ]
  },
  {
   "cell_type": "code",
   "execution_count": 28,
   "metadata": {},
   "outputs": [
    {
     "name": "stdout",
     "output_type": "stream",
     "text": [
      "Showing results 25 to 29 (of 0-32)\n"
     ]
    },
    {
     "data": {
      "text/html": [
       "<table><tr class=\"tf rtl\"><th class=\"tf rtl\">n</th><th class=\"tf rtl\">p</th><th class=\"tf rtl\">book</th><th class=\"tf\">chapter</th><th class=\"tf\">clause</th><th class=\"tf\">word</th></tr>\n",
       "<tr class=\"tf rtl\"><td class=\"tf rtl\">1</td><td class=\"tf rtl\"><span class=\"tfsechead ltr\"><a target=\"_blank\" href=\"https://shebanq.ancient-data.org/hebrew/text?book=Reges_I&amp;chapter=1&amp;verse=42&amp;version=c&amp;mr=m&amp;qw=q&amp;tp=txt_p&amp;tr=hb&amp;wget=v&amp;qget=v&amp;nget=vt\" title=\"Show this on SHEBANQ\" sec=\"1_Kings 1:42\">1_Kings 1:42</a></span></td><td class=\"tf rtl\"><span class=\"rtl ubd\"><span class=\"txtu hbo rtl\"><span class=\"tfsechead\">1_Kings</span></span></span></td><td class=\"tf rtl\"><span class=\"rtl ubd\"><span class=\"txtu hbo rtl\"><span class=\"tfsechead\">1_Kings 1</span></span></span></td><td class=\"tf rtl\"><span class=\"rtl ubd\"><span class=\"plain rtl  hlbx\" ><span class=\"txtu hbo\">וְ</span><span class=\"txtu hbo\">טֹ֥וב </span><span class=\"plain rtl  hl\" ><span class=\"txtu hbo\">תְּבַשֵּֽׂר׃ </span></span></span></span></td><td class=\"tf rtl\"><span class=\"rtl ubd\"><span class=\"plain rtl  hl\" ><span class=\"txtu hbo\">תְּבַשֵּֽׂר׃ </span></span></span></td></tr>\n",
       "<tr class=\"tf rtl\"><td class=\"tf rtl\">2</td><td class=\"tf rtl\"><span class=\"tfsechead ltr\"><a target=\"_blank\" href=\"https://shebanq.ancient-data.org/hebrew/text?book=Reges_I&amp;chapter=1&amp;verse=47&amp;version=c&amp;mr=m&amp;qw=q&amp;tp=txt_p&amp;tr=hb&amp;wget=v&amp;qget=v&amp;nget=vt\" title=\"Show this on SHEBANQ\" sec=\"1_Kings 1:47\">1_Kings 1:47</a></span></td><td class=\"tf rtl\"><span class=\"rtl ubd\"><span class=\"txtu hbo rtl\"><span class=\"tfsechead\">1_Kings</span></span></span></td><td class=\"tf rtl\"><span class=\"rtl ubd\"><span class=\"txtu hbo rtl\"><span class=\"tfsechead\">1_Kings 1</span></span></span></td><td class=\"tf rtl\"><span class=\"rtl ubd\"><span class=\"plain rtl  hlbx\" ><span class=\"plain rtl  hl\" ><span class=\"txtu hbo\">יֵיטֵ֨ב </span></span><span class=\"txtu hbo\">אֱלֹהִ֜ים </span><span class=\"txtu hbo\">אֶת־</span><span class=\"txtu hbo\">שֵׁ֤ם </span><span class=\"txtu hbo\">שְׁלֹמֹה֙ </span><span class=\"txtu hbo\">מִ</span><span class=\"txtu hbo\">שְּׁמֶ֔ךָ </span></span></span></td><td class=\"tf rtl\"><span class=\"rtl ubd\"><span class=\"plain rtl  hl\" ><span class=\"txtu hbo\">יֵיטֵ֨ב </span></span></span></td></tr>\n",
       "<tr class=\"tf rtl\"><td class=\"tf rtl\">3</td><td class=\"tf rtl\"><span class=\"tfsechead ltr\"><a target=\"_blank\" href=\"https://shebanq.ancient-data.org/hebrew/text?book=Reges_I&amp;chapter=1&amp;verse=47&amp;version=c&amp;mr=m&amp;qw=q&amp;tp=txt_p&amp;tr=hb&amp;wget=v&amp;qget=v&amp;nget=vt\" title=\"Show this on SHEBANQ\" sec=\"1_Kings 1:47\">1_Kings 1:47</a></span></td><td class=\"tf rtl\"><span class=\"rtl ubd\"><span class=\"txtu hbo rtl\"><span class=\"tfsechead\">1_Kings</span></span></span></td><td class=\"tf rtl\"><span class=\"rtl ubd\"><span class=\"txtu hbo rtl\"><span class=\"tfsechead\">1_Kings 1</span></span></span></td><td class=\"tf rtl\"><span class=\"rtl ubd\"><span class=\"plain rtl  hlbx\" ><span class=\"txtu hbo\">וִֽ</span><span class=\"plain rtl  hl\" ><span class=\"txtu hbo\">יגַדֵּ֥ל </span></span><span class=\"txtu hbo\">אֶת־</span><span class=\"txtu hbo\">כִּסְאֹ֖ו </span><span class=\"txtu hbo\">מִ</span><span class=\"txtu hbo\">כִּסְאֶ֑ךָ </span></span></span></td><td class=\"tf rtl\"><span class=\"rtl ubd\"><span class=\"plain rtl  hl\" ><span class=\"txtu hbo\">יגַדֵּ֥ל </span></span></span></td></tr>\n",
       "<tr class=\"tf rtl\"><td class=\"tf rtl\">4</td><td class=\"tf rtl\"><span class=\"tfsechead ltr\"><a target=\"_blank\" href=\"https://shebanq.ancient-data.org/hebrew/text?book=Reges_I&amp;chapter=1&amp;verse=51&amp;version=c&amp;mr=m&amp;qw=q&amp;tp=txt_p&amp;tr=hb&amp;wget=v&amp;qget=v&amp;nget=vt\" title=\"Show this on SHEBANQ\" sec=\"1_Kings 1:51\">1_Kings 1:51</a></span></td><td class=\"tf rtl\"><span class=\"rtl ubd\"><span class=\"txtu hbo rtl\"><span class=\"tfsechead\">1_Kings</span></span></span></td><td class=\"tf rtl\"><span class=\"rtl ubd\"><span class=\"txtu hbo rtl\"><span class=\"tfsechead\">1_Kings 1</span></span></span></td><td class=\"tf rtl\"><span class=\"rtl ubd\"><span class=\"plain rtl  hlbx\" ><span class=\"plain rtl  hl\" ><span class=\"txtu hbo\">יִשָּֽׁבַֽע־</span></span><span class=\"txtu hbo\">לִ֤י </span><span class=\"txtu hbo\">כַ</span><span class=\"txtu hbo\">יֹּום֙ </span><span class=\"txtu hbo\">הַ</span><span class=\"txtu hbo\">מֶּ֣לֶךְ </span><span class=\"txtu hbo\">שְׁלֹמֹ֔ה </span></span></span></td><td class=\"tf rtl\"><span class=\"rtl ubd\"><span class=\"plain rtl  hl\" ><span class=\"txtu hbo\">יִשָּֽׁבַֽע־</span></span></span></td></tr>\n",
       "<tr class=\"tf rtl\"><td class=\"tf rtl\">5</td><td class=\"tf rtl\"><span class=\"tfsechead ltr\"><a target=\"_blank\" href=\"https://shebanq.ancient-data.org/hebrew/text?book=Reges_I&amp;chapter=1&amp;verse=51&amp;version=c&amp;mr=m&amp;qw=q&amp;tp=txt_p&amp;tr=hb&amp;wget=v&amp;qget=v&amp;nget=vt\" title=\"Show this on SHEBANQ\" sec=\"1_Kings 1:51\">1_Kings 1:51</a></span></td><td class=\"tf rtl\"><span class=\"rtl ubd\"><span class=\"txtu hbo rtl\"><span class=\"tfsechead\">1_Kings</span></span></span></td><td class=\"tf rtl\"><span class=\"rtl ubd\"><span class=\"txtu hbo rtl\"><span class=\"tfsechead\">1_Kings 1</span></span></span></td><td class=\"tf rtl\"><span class=\"rtl ubd\"><span class=\"plain rtl  hlbx\" ><span class=\"txtu hbo\">אִם־</span><span class=\"plain rtl  hl\" ><span class=\"txtu hbo\">יָמִ֥ית </span></span><span class=\"txtu hbo\">אֶת־</span><span class=\"txtu hbo\">עַבְדֹּ֖ו </span><span class=\"txtu hbo\">בֶּ</span><span class=\"txtu hbo\">חָֽרֶב׃ </span></span></span></td><td class=\"tf rtl\"><span class=\"rtl ubd\"><span class=\"plain rtl  hl\" ><span class=\"txtu hbo\">יָמִ֥ית </span></span></span></td></tr></table>"
      ],
      "text/plain": [
       "<IPython.core.display.HTML object>"
      ]
     },
     "metadata": {},
     "output_type": "display_data"
    }
   ],
   "source": [
    "set_page(5)\n",
    "tag(1, LONG_SHORT, ASSERTIVE, HABITUAL, \"deductive/assumptive or possibly habitual\")\n",
    "tag(2, SHORT, OPTATIVE)\n",
    "tag(3, LONG_SHORT, OPTATIVE)\n",
    "tag(4, LONG_SHORT, OBLIGATIVE, \"obligative in sense of request/demand\")\n",
    "tag(5, LONG, NON_ASSERTIVE, FUTURE, \"non-assertive or possibly future\")"
   ]
  },
  {
   "cell_type": "code",
   "execution_count": 29,
   "metadata": {},
   "outputs": [
    {
     "name": "stdout",
     "output_type": "stream",
     "text": [
      "Showing results 30 to 32 (of 0-32)\n"
     ]
    },
    {
     "data": {
      "text/html": [
       "<table><tr class=\"tf rtl\"><th class=\"tf rtl\">n</th><th class=\"tf rtl\">p</th><th class=\"tf rtl\">book</th><th class=\"tf\">chapter</th><th class=\"tf\">clause</th><th class=\"tf\">word</th></tr>\n",
       "<tr class=\"tf rtl\"><td class=\"tf rtl\">1</td><td class=\"tf rtl\"><span class=\"tfsechead ltr\"><a target=\"_blank\" href=\"https://shebanq.ancient-data.org/hebrew/text?book=Reges_I&amp;chapter=1&amp;verse=52&amp;version=c&amp;mr=m&amp;qw=q&amp;tp=txt_p&amp;tr=hb&amp;wget=v&amp;qget=v&amp;nget=vt\" title=\"Show this on SHEBANQ\" sec=\"1_Kings 1:52\">1_Kings 1:52</a></span></td><td class=\"tf rtl\"><span class=\"rtl ubd\"><span class=\"txtu hbo rtl\"><span class=\"tfsechead\">1_Kings</span></span></span></td><td class=\"tf rtl\"><span class=\"rtl ubd\"><span class=\"txtu hbo rtl\"><span class=\"tfsechead\">1_Kings 1</span></span></span></td><td class=\"tf rtl\"><span class=\"rtl ubd\"><span class=\"plain rtl  hlbx\" ><span class=\"txtu hbo\">אִ֚ם </span><span class=\"plain rtl  hl\" ><span class=\"txtu hbo\">יִהְיֶ֣ה </span></span><span class=\"txtu hbo\">לְ</span><span class=\"txtu hbo\">בֶן־</span><span class=\"txtu hbo\">חַ֔יִל </span></span></span></td><td class=\"tf rtl\"><span class=\"rtl ubd\"><span class=\"plain rtl  hl\" ><span class=\"txtu hbo\">יִהְיֶ֣ה </span></span></span></td></tr>\n",
       "<tr class=\"tf rtl\"><td class=\"tf rtl\">2</td><td class=\"tf rtl\"><span class=\"tfsechead ltr\"><a target=\"_blank\" href=\"https://shebanq.ancient-data.org/hebrew/text?book=Reges_I&amp;chapter=1&amp;verse=52&amp;version=c&amp;mr=m&amp;qw=q&amp;tp=txt_p&amp;tr=hb&amp;wget=v&amp;qget=v&amp;nget=vt\" title=\"Show this on SHEBANQ\" sec=\"1_Kings 1:52\">1_Kings 1:52</a></span></td><td class=\"tf rtl\"><span class=\"rtl ubd\"><span class=\"txtu hbo rtl\"><span class=\"tfsechead\">1_Kings</span></span></span></td><td class=\"tf rtl\"><span class=\"rtl ubd\"><span class=\"txtu hbo rtl\"><span class=\"tfsechead\">1_Kings 1</span></span></span></td><td class=\"tf rtl\"><span class=\"rtl ubd\"><span class=\"plain rtl  hlbx\" ><span class=\"txtu hbo\">לֹֽא־</span><span class=\"plain rtl  hl\" ><span class=\"txtu hbo\">יִפֹּ֥ל </span></span><span class=\"txtu hbo\">מִ</span><span class=\"txtu hbo\">שַּׂעֲרָתֹ֖ו </span><span class=\"txtu hbo\">אָ֑רְצָה </span></span></span></td><td class=\"tf rtl\"><span class=\"rtl ubd\"><span class=\"plain rtl  hl\" ><span class=\"txtu hbo\">יִפֹּ֥ל </span></span></span></td></tr>\n",
       "<tr class=\"tf rtl\"><td class=\"tf rtl\">3</td><td class=\"tf rtl\"><span class=\"tfsechead ltr\"><a target=\"_blank\" href=\"https://shebanq.ancient-data.org/hebrew/text?book=Reges_I&amp;chapter=1&amp;verse=52&amp;version=c&amp;mr=m&amp;qw=q&amp;tp=txt_p&amp;tr=hb&amp;wget=v&amp;qget=v&amp;nget=vt\" title=\"Show this on SHEBANQ\" sec=\"1_Kings 1:52\">1_Kings 1:52</a></span></td><td class=\"tf rtl\"><span class=\"rtl ubd\"><span class=\"txtu hbo rtl\"><span class=\"tfsechead\">1_Kings</span></span></span></td><td class=\"tf rtl\"><span class=\"rtl ubd\"><span class=\"txtu hbo rtl\"><span class=\"tfsechead\">1_Kings 1</span></span></span></td><td class=\"tf rtl\"><span class=\"rtl ubd\"><span class=\"plain rtl  hlbx\" ><span class=\"txtu hbo\">וְ</span><span class=\"txtu hbo\">אִם־</span><span class=\"txtu hbo\">רָעָ֥ה </span><span class=\"plain rtl  hl\" ><span class=\"txtu hbo\">תִמָּצֵא־</span></span><span class=\"txtu hbo\">בֹ֖ו </span></span></span></td><td class=\"tf rtl\"><span class=\"rtl ubd\"><span class=\"plain rtl  hl\" ><span class=\"txtu hbo\">תִמָּצֵא־</span></span></span></td></tr></table>"
      ],
      "text/plain": [
       "<IPython.core.display.HTML object>"
      ]
     },
     "metadata": {},
     "output_type": "display_data"
    }
   ],
   "source": [
    "set_page(6)\n",
    "tag(1, LONG, NON_ASSERTIVE, FUTURE)\n",
    "tag(2, LONG_SHORT, FUTURE)\n",
    "tag(3, LONG_SHORT, NON_ASSERTIVE, FUTURE)"
   ]
  },
  {
   "cell_type": "markdown",
   "metadata": {},
   "source": [
    "# Imperative"
   ]
  },
  {
   "cell_type": "code",
   "execution_count": 30,
   "metadata": {},
   "outputs": [
    {
     "name": "stdout",
     "output_type": "stream",
     "text": [
      "  0.42s 9 results\n",
      "Showing results 0 to 4 (of 0-8)\n"
     ]
    },
    {
     "data": {
      "text/html": [
       "<table><tr class=\"tf rtl\"><th class=\"tf rtl\">n</th><th class=\"tf rtl\">p</th><th class=\"tf rtl\">book</th><th class=\"tf\">chapter</th><th class=\"tf\">clause</th><th class=\"tf\">word</th></tr>\n",
       "<tr class=\"tf rtl\"><td class=\"tf rtl\">1</td><td class=\"tf rtl\"><span class=\"tfsechead ltr\"><a target=\"_blank\" href=\"https://shebanq.ancient-data.org/hebrew/text?book=Reges_I&amp;chapter=1&amp;verse=12&amp;version=c&amp;mr=m&amp;qw=q&amp;tp=txt_p&amp;tr=hb&amp;wget=v&amp;qget=v&amp;nget=vt\" title=\"Show this on SHEBANQ\" sec=\"1_Kings 1:12\">1_Kings 1:12</a></span></td><td class=\"tf rtl\"><span class=\"rtl ubd\"><span class=\"txtu hbo rtl\"><span class=\"tfsechead\">1_Kings</span></span></span></td><td class=\"tf rtl\"><span class=\"rtl ubd\"><span class=\"txtu hbo rtl\"><span class=\"tfsechead\">1_Kings 1</span></span></span></td><td class=\"tf rtl\"><span class=\"rtl ubd\"><span class=\"plain rtl  hlbx\" ><span class=\"plain rtl  hl\" ><span class=\"txtu hbo\">לְכִ֛י </span></span></span></span></td><td class=\"tf rtl\"><span class=\"rtl ubd\"><span class=\"plain rtl  hl\" ><span class=\"txtu hbo\">לְכִ֛י </span></span></span></td></tr>\n",
       "<tr class=\"tf rtl\"><td class=\"tf rtl\">2</td><td class=\"tf rtl\"><span class=\"tfsechead ltr\"><a target=\"_blank\" href=\"https://shebanq.ancient-data.org/hebrew/text?book=Reges_I&amp;chapter=1&amp;verse=12&amp;version=c&amp;mr=m&amp;qw=q&amp;tp=txt_p&amp;tr=hb&amp;wget=v&amp;qget=v&amp;nget=vt\" title=\"Show this on SHEBANQ\" sec=\"1_Kings 1:12\">1_Kings 1:12</a></span></td><td class=\"tf rtl\"><span class=\"rtl ubd\"><span class=\"txtu hbo rtl\"><span class=\"tfsechead\">1_Kings</span></span></span></td><td class=\"tf rtl\"><span class=\"rtl ubd\"><span class=\"txtu hbo rtl\"><span class=\"tfsechead\">1_Kings 1</span></span></span></td><td class=\"tf rtl\"><span class=\"rtl ubd\"><span class=\"plain rtl  hlbx\" ><span class=\"txtu hbo\">וּ</span><span class=\"plain rtl  hl\" ><span class=\"txtu hbo\">מַלְּטִי֙ </span></span><span class=\"txtu hbo\">אֶת־</span><span class=\"txtu hbo\">נַפְשֵׁ֔ךְ </span><span class=\"txtu hbo\">וְ</span><span class=\"txtu hbo\">אֶת־</span><span class=\"txtu hbo\">נֶ֥פֶשׁ </span><span class=\"txtu hbo\">בְּנֵ֖ךְ </span><span class=\"txtu hbo\">שְׁלֹמֹֽה׃ </span></span></span></td><td class=\"tf rtl\"><span class=\"rtl ubd\"><span class=\"plain rtl  hl\" ><span class=\"txtu hbo\">מַלְּטִי֙ </span></span></span></td></tr>\n",
       "<tr class=\"tf rtl\"><td class=\"tf rtl\">3</td><td class=\"tf rtl\"><span class=\"tfsechead ltr\"><a target=\"_blank\" href=\"https://shebanq.ancient-data.org/hebrew/text?book=Reges_I&amp;chapter=1&amp;verse=13&amp;version=c&amp;mr=m&amp;qw=q&amp;tp=txt_p&amp;tr=hb&amp;wget=v&amp;qget=v&amp;nget=vt\" title=\"Show this on SHEBANQ\" sec=\"1_Kings 1:13\">1_Kings 1:13</a></span></td><td class=\"tf rtl\"><span class=\"rtl ubd\"><span class=\"txtu hbo rtl\"><span class=\"tfsechead\">1_Kings</span></span></span></td><td class=\"tf rtl\"><span class=\"rtl ubd\"><span class=\"txtu hbo rtl\"><span class=\"tfsechead\">1_Kings 1</span></span></span></td><td class=\"tf rtl\"><span class=\"rtl ubd\"><span class=\"plain rtl  hlbx\" ><span class=\"plain rtl  hl\" ><span class=\"txtu hbo\">לְכִ֞י </span></span></span></span></td><td class=\"tf rtl\"><span class=\"rtl ubd\"><span class=\"plain rtl  hl\" ><span class=\"txtu hbo\">לְכִ֞י </span></span></span></td></tr>\n",
       "<tr class=\"tf rtl\"><td class=\"tf rtl\">4</td><td class=\"tf rtl\"><span class=\"tfsechead ltr\"><a target=\"_blank\" href=\"https://shebanq.ancient-data.org/hebrew/text?book=Reges_I&amp;chapter=1&amp;verse=13&amp;version=c&amp;mr=m&amp;qw=q&amp;tp=txt_p&amp;tr=hb&amp;wget=v&amp;qget=v&amp;nget=vt\" title=\"Show this on SHEBANQ\" sec=\"1_Kings 1:13\">1_Kings 1:13</a></span></td><td class=\"tf rtl\"><span class=\"rtl ubd\"><span class=\"txtu hbo rtl\"><span class=\"tfsechead\">1_Kings</span></span></span></td><td class=\"tf rtl\"><span class=\"rtl ubd\"><span class=\"txtu hbo rtl\"><span class=\"tfsechead\">1_Kings 1</span></span></span></td><td class=\"tf rtl\"><span class=\"rtl ubd\"><span class=\"plain rtl  hlbx\" ><span class=\"txtu hbo\">וּ</span><span class=\"plain rtl  hl\" ><span class=\"txtu hbo\">בֹ֣אִי׀ </span></span><span class=\"txtu hbo\">אֶל־</span><span class=\"txtu hbo\">הַ</span><span class=\"txtu hbo\">מֶּ֣לֶךְ </span><span class=\"txtu hbo\">דָּוִ֗ד </span></span></span></td><td class=\"tf rtl\"><span class=\"rtl ubd\"><span class=\"plain rtl  hl\" ><span class=\"txtu hbo\">בֹ֣אִי׀ </span></span></span></td></tr>\n",
       "<tr class=\"tf rtl\"><td class=\"tf rtl\">5</td><td class=\"tf rtl\"><span class=\"tfsechead ltr\"><a target=\"_blank\" href=\"https://shebanq.ancient-data.org/hebrew/text?book=Reges_I&amp;chapter=1&amp;verse=28&amp;version=c&amp;mr=m&amp;qw=q&amp;tp=txt_p&amp;tr=hb&amp;wget=v&amp;qget=v&amp;nget=vt\" title=\"Show this on SHEBANQ\" sec=\"1_Kings 1:28\">1_Kings 1:28</a></span></td><td class=\"tf rtl\"><span class=\"rtl ubd\"><span class=\"txtu hbo rtl\"><span class=\"tfsechead\">1_Kings</span></span></span></td><td class=\"tf rtl\"><span class=\"rtl ubd\"><span class=\"txtu hbo rtl\"><span class=\"tfsechead\">1_Kings 1</span></span></span></td><td class=\"tf rtl\"><span class=\"rtl ubd\"><span class=\"plain rtl  hlbx\" ><span class=\"plain rtl  hl\" ><span class=\"txtu hbo\">קִרְאוּ־</span></span><span class=\"txtu hbo\">לִ֖י </span><span class=\"txtu hbo\">לְ</span><span class=\"txtu hbo\">בַת־שָׁ֑בַע </span></span></span></td><td class=\"tf rtl\"><span class=\"rtl ubd\"><span class=\"plain rtl  hl\" ><span class=\"txtu hbo\">קִרְאוּ־</span></span></span></td></tr></table>"
      ],
      "text/plain": [
       "<IPython.core.display.HTML object>"
      ]
     },
     "metadata": {},
     "output_type": "display_data"
    }
   ],
   "source": [
    "run_search(\"vt=impv\")\n",
    "set_page(0)\n",
    "tag(1, D_OTHER, \"idiomatic/interjection\")\n",
    "tag(2, FINAL)\n",
    "tag(3, OBLIGATIVE)\n",
    "tag(4, OBLIGATIVE)\n",
    "tag(5, OBLIGATIVE)"
   ]
  },
  {
   "cell_type": "code",
   "execution_count": 31,
   "metadata": {},
   "outputs": [
    {
     "name": "stdout",
     "output_type": "stream",
     "text": [
      "Showing results 5 to 8 (of 0-8)\n"
     ]
    },
    {
     "data": {
      "text/html": [
       "<table><tr class=\"tf rtl\"><th class=\"tf rtl\">n</th><th class=\"tf rtl\">p</th><th class=\"tf rtl\">book</th><th class=\"tf\">chapter</th><th class=\"tf\">clause</th><th class=\"tf\">word</th></tr>\n",
       "<tr class=\"tf rtl\"><td class=\"tf rtl\">1</td><td class=\"tf rtl\"><span class=\"tfsechead ltr\"><a target=\"_blank\" href=\"https://shebanq.ancient-data.org/hebrew/text?book=Reges_I&amp;chapter=1&amp;verse=32&amp;version=c&amp;mr=m&amp;qw=q&amp;tp=txt_p&amp;tr=hb&amp;wget=v&amp;qget=v&amp;nget=vt\" title=\"Show this on SHEBANQ\" sec=\"1_Kings 1:32\">1_Kings 1:32</a></span></td><td class=\"tf rtl\"><span class=\"rtl ubd\"><span class=\"txtu hbo rtl\"><span class=\"tfsechead\">1_Kings</span></span></span></td><td class=\"tf rtl\"><span class=\"rtl ubd\"><span class=\"txtu hbo rtl\"><span class=\"tfsechead\">1_Kings 1</span></span></span></td><td class=\"tf rtl\"><span class=\"rtl ubd\"><span class=\"plain rtl  hlbx\" ><span class=\"plain rtl  hl\" ><span class=\"txtu hbo\">קִרְאוּ־</span></span><span class=\"txtu hbo\">לִ֞י </span><span class=\"txtu hbo\">לְ</span><span class=\"txtu hbo\">צָדֹ֤וק </span><span class=\"txtu hbo\">הַ</span><span class=\"txtu hbo\">כֹּהֵן֙ </span><span class=\"txtu hbo\">וּ</span><span class=\"txtu hbo\">לְ</span><span class=\"txtu hbo\">נָתָ֣ן </span><span class=\"txtu hbo\">הַ</span><span class=\"txtu hbo\">נָּבִ֔יא </span><span class=\"txtu hbo\">וְ</span><span class=\"txtu hbo\">לִ</span><span class=\"txtu hbo\">בְנָיָ֖הוּ </span><span class=\"txtu hbo\">בֶּן־</span><span class=\"txtu hbo\">יְהֹויָדָ֑ע </span></span></span></td><td class=\"tf rtl\"><span class=\"rtl ubd\"><span class=\"plain rtl  hl\" ><span class=\"txtu hbo\">קִרְאוּ־</span></span></span></td></tr>\n",
       "<tr class=\"tf rtl\"><td class=\"tf rtl\">2</td><td class=\"tf rtl\"><span class=\"tfsechead ltr\"><a target=\"_blank\" href=\"https://shebanq.ancient-data.org/hebrew/text?book=Reges_I&amp;chapter=1&amp;verse=33&amp;version=c&amp;mr=m&amp;qw=q&amp;tp=txt_p&amp;tr=hb&amp;wget=v&amp;qget=v&amp;nget=vt\" title=\"Show this on SHEBANQ\" sec=\"1_Kings 1:33\">1_Kings 1:33</a></span></td><td class=\"tf rtl\"><span class=\"rtl ubd\"><span class=\"txtu hbo rtl\"><span class=\"tfsechead\">1_Kings</span></span></span></td><td class=\"tf rtl\"><span class=\"rtl ubd\"><span class=\"txtu hbo rtl\"><span class=\"tfsechead\">1_Kings 1</span></span></span></td><td class=\"tf rtl\"><span class=\"rtl ubd\"><span class=\"plain rtl  hlbx\" ><span class=\"plain rtl  hl\" ><span class=\"txtu hbo\">קְח֤וּ </span></span><span class=\"txtu hbo\">עִמָּכֶם֙ </span><span class=\"txtu hbo\">אֶת־</span><span class=\"txtu hbo\">עַבְדֵ֣י </span><span class=\"txtu hbo\">אֲדֹנֵיכֶ֔ם </span></span></span></td><td class=\"tf rtl\"><span class=\"rtl ubd\"><span class=\"plain rtl  hl\" ><span class=\"txtu hbo\">קְח֤וּ </span></span></span></td></tr>\n",
       "<tr class=\"tf rtl\"><td class=\"tf rtl\">3</td><td class=\"tf rtl\"><span class=\"tfsechead ltr\"><a target=\"_blank\" href=\"https://shebanq.ancient-data.org/hebrew/text?book=Reges_I&amp;chapter=1&amp;verse=42&amp;version=c&amp;mr=m&amp;qw=q&amp;tp=txt_p&amp;tr=hb&amp;wget=v&amp;qget=v&amp;nget=vt\" title=\"Show this on SHEBANQ\" sec=\"1_Kings 1:42\">1_Kings 1:42</a></span></td><td class=\"tf rtl\"><span class=\"rtl ubd\"><span class=\"txtu hbo rtl\"><span class=\"tfsechead\">1_Kings</span></span></span></td><td class=\"tf rtl\"><span class=\"rtl ubd\"><span class=\"txtu hbo rtl\"><span class=\"tfsechead\">1_Kings 1</span></span></span></td><td class=\"tf rtl\"><span class=\"rtl ubd\"><span class=\"plain rtl  hlbx\" ><span class=\"plain rtl  hl\" ><span class=\"txtu hbo\">בֹּ֔א </span></span></span></span></td><td class=\"tf rtl\"><span class=\"rtl ubd\"><span class=\"plain rtl  hl\" ><span class=\"txtu hbo\">בֹּ֔א </span></span></span></td></tr>\n",
       "<tr class=\"tf rtl\"><td class=\"tf rtl\">4</td><td class=\"tf rtl\"><span class=\"tfsechead ltr\"><a target=\"_blank\" href=\"https://shebanq.ancient-data.org/hebrew/text?book=Reges_I&amp;chapter=1&amp;verse=53&amp;version=c&amp;mr=m&amp;qw=q&amp;tp=txt_p&amp;tr=hb&amp;wget=v&amp;qget=v&amp;nget=vt\" title=\"Show this on SHEBANQ\" sec=\"1_Kings 1:53\">1_Kings 1:53</a></span></td><td class=\"tf rtl\"><span class=\"rtl ubd\"><span class=\"txtu hbo rtl\"><span class=\"tfsechead\">1_Kings</span></span></span></td><td class=\"tf rtl\"><span class=\"rtl ubd\"><span class=\"txtu hbo rtl\"><span class=\"tfsechead\">1_Kings 1</span></span></span></td><td class=\"tf rtl\"><span class=\"rtl ubd\"><span class=\"plain rtl  hlbx\" ><span class=\"plain rtl  hl\" ><span class=\"txtu hbo\">לֵ֥ךְ </span></span><span class=\"txtu hbo\">לְ</span><span class=\"txtu hbo\">בֵיתֶֽךָ׃ פ </span></span></span></td><td class=\"tf rtl\"><span class=\"rtl ubd\"><span class=\"plain rtl  hl\" ><span class=\"txtu hbo\">לֵ֥ךְ </span></span></span></td></tr></table>"
      ],
      "text/plain": [
       "<IPython.core.display.HTML object>"
      ]
     },
     "metadata": {},
     "output_type": "display_data"
    }
   ],
   "source": [
    "set_page(1)\n",
    "tag(1, OBLIGATIVE)\n",
    "tag(2, OBLIGATIVE)\n",
    "tag(3, OBLIGATIVE, PERMISSIVE)\n",
    "tag(4, OBLIGATIVE)"
   ]
  }
 ],
 "metadata": {
  "interpreter": {
   "hash": "a707b6ce8c685eb936424fcc3009d4b4b7a52543c4db09380a3fc49186ceb509"
  },
  "kernelspec": {
   "display_name": "Python 3.8.5 64-bit",
   "name": "python3"
  },
  "language_info": {
   "codemirror_mode": {
    "name": "ipython",
    "version": 3
   },
   "file_extension": ".py",
   "mimetype": "text/x-python",
   "name": "python",
   "nbconvert_exporter": "python",
   "pygments_lexer": "ipython3",
   "version": "3.8.5"
  },
  "orig_nbformat": 4
 },
 "nbformat": 4,
 "nbformat_minor": 2
}
