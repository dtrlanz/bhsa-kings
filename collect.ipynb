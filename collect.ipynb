{
 "cells": [
  {
   "cell_type": "code",
   "execution_count": 8,
   "metadata": {},
   "outputs": [],
   "source": [
    "import json\n",
    "\n",
    "collected_data = {}\n",
    "\n",
    "def import_data(file):\n",
    "    with open(file, 'r') as f:\n",
    "        new_data = json.load(f)\n",
    "\n",
    "    for node, tags in new_data.items():\n",
    "        assert node not in collected_data, f\"Node {node} has already been imported (file `{file})\"\n",
    "        collected_data[node] = tags\n",
    "\n",
    "\n",
    "for ch in range(1, 23):\n",
    "    file = f\"Reges_I_{ch}.json\"\n",
    "    import_data(file)\n",
    "\n",
    "for ch in range(1, 26):\n",
    "    file = f\"Reges_II_{ch}.json\"\n",
    "    import_data(file)\n",
    "\n",
    "file = \"data.json\"\n",
    "with open(file, 'w') as f: \n",
    "    json.dump(collected_data, f)"
   ]
  }
 ],
 "metadata": {
  "kernelspec": {
   "display_name": "Python 3.9.12 ('base')",
   "language": "python",
   "name": "python3"
  },
  "language_info": {
   "codemirror_mode": {
    "name": "ipython",
    "version": 3
   },
   "file_extension": ".py",
   "mimetype": "text/x-python",
   "name": "python",
   "nbconvert_exporter": "python",
   "pygments_lexer": "ipython3",
   "version": "3.9.12"
  },
  "orig_nbformat": 4,
  "vscode": {
   "interpreter": {
    "hash": "f49206fcf84a9145e7e21228cbafa911d1ac18292303b01e865d8267a9c448f7"
   }
  }
 },
 "nbformat": 4,
 "nbformat_minor": 2
}
